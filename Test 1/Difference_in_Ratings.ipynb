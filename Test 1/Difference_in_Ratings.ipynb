{
  "cells": [
    {
      "cell_type": "markdown",
      "metadata": {
        "id": "view-in-github",
        "colab_type": "text"
      },
      "source": [
        "<a href=\"https://colab.research.google.com/github/carresl/trade-ratings/blob/main/Difference_in_Ratings.ipynb\" target=\"_parent\"><img src=\"https://colab.research.google.com/assets/colab-badge.svg\" alt=\"Open In Colab\"/></a>"
      ]
    },
    {
      "cell_type": "markdown",
      "metadata": {
        "id": "G-6IeV8sFAPH"
      },
      "source": [
        "### Libraries"
      ]
    },
    {
      "cell_type": "code",
      "execution_count": 1,
      "metadata": {
        "colab": {
          "base_uri": "https://localhost:8080/"
        },
        "id": "UjAhmGPTQmtf",
        "outputId": "339018d5-c057-4a08-9866-30dcb66bf1b0"
      },
      "outputs": [
        {
          "output_type": "stream",
          "name": "stdout",
          "text": [
            "Requirement already satisfied: ta in /usr/local/lib/python3.11/dist-packages (0.11.0)\n",
            "Requirement already satisfied: numpy in /usr/local/lib/python3.11/dist-packages (from ta) (2.0.2)\n",
            "Requirement already satisfied: pandas in /usr/local/lib/python3.11/dist-packages (from ta) (2.2.2)\n",
            "Requirement already satisfied: python-dateutil>=2.8.2 in /usr/local/lib/python3.11/dist-packages (from pandas->ta) (2.9.0.post0)\n",
            "Requirement already satisfied: pytz>=2020.1 in /usr/local/lib/python3.11/dist-packages (from pandas->ta) (2025.2)\n",
            "Requirement already satisfied: tzdata>=2022.7 in /usr/local/lib/python3.11/dist-packages (from pandas->ta) (2025.2)\n",
            "Requirement already satisfied: six>=1.5 in /usr/local/lib/python3.11/dist-packages (from python-dateutil>=2.8.2->pandas->ta) (1.17.0)\n"
          ]
        }
      ],
      "source": [
        "!pip install ta"
      ]
    },
    {
      "cell_type": "code",
      "execution_count": 2,
      "metadata": {
        "colab": {
          "base_uri": "https://localhost:8080/"
        },
        "id": "eWZJUELGKycE",
        "outputId": "8698f9d9-177f-494f-8484-aeceeaf85385"
      },
      "outputs": [
        {
          "output_type": "stream",
          "name": "stdout",
          "text": [
            "Requirement already satisfied: yfinance in /usr/local/lib/python3.11/dist-packages (0.2.65)\n",
            "Requirement already satisfied: pandas>=1.3.0 in /usr/local/lib/python3.11/dist-packages (from yfinance) (2.2.2)\n",
            "Requirement already satisfied: numpy>=1.16.5 in /usr/local/lib/python3.11/dist-packages (from yfinance) (2.0.2)\n",
            "Requirement already satisfied: requests>=2.31 in /usr/local/lib/python3.11/dist-packages (from yfinance) (2.32.3)\n",
            "Requirement already satisfied: multitasking>=0.0.7 in /usr/local/lib/python3.11/dist-packages (from yfinance) (0.0.11)\n",
            "Requirement already satisfied: platformdirs>=2.0.0 in /usr/local/lib/python3.11/dist-packages (from yfinance) (4.3.8)\n",
            "Requirement already satisfied: pytz>=2022.5 in /usr/local/lib/python3.11/dist-packages (from yfinance) (2025.2)\n",
            "Requirement already satisfied: frozendict>=2.3.4 in /usr/local/lib/python3.11/dist-packages (from yfinance) (2.4.6)\n",
            "Requirement already satisfied: peewee>=3.16.2 in /usr/local/lib/python3.11/dist-packages (from yfinance) (3.18.1)\n",
            "Requirement already satisfied: beautifulsoup4>=4.11.1 in /usr/local/lib/python3.11/dist-packages (from yfinance) (4.13.4)\n",
            "Requirement already satisfied: curl_cffi>=0.7 in /usr/local/lib/python3.11/dist-packages (from yfinance) (0.11.4)\n",
            "Requirement already satisfied: protobuf>=3.19.0 in /usr/local/lib/python3.11/dist-packages (from yfinance) (5.29.5)\n",
            "Requirement already satisfied: websockets>=13.0 in /usr/local/lib/python3.11/dist-packages (from yfinance) (15.0.1)\n",
            "Requirement already satisfied: soupsieve>1.2 in /usr/local/lib/python3.11/dist-packages (from beautifulsoup4>=4.11.1->yfinance) (2.7)\n",
            "Requirement already satisfied: typing-extensions>=4.0.0 in /usr/local/lib/python3.11/dist-packages (from beautifulsoup4>=4.11.1->yfinance) (4.14.1)\n",
            "Requirement already satisfied: cffi>=1.12.0 in /usr/local/lib/python3.11/dist-packages (from curl_cffi>=0.7->yfinance) (1.17.1)\n",
            "Requirement already satisfied: certifi>=2024.2.2 in /usr/local/lib/python3.11/dist-packages (from curl_cffi>=0.7->yfinance) (2025.6.15)\n",
            "Requirement already satisfied: python-dateutil>=2.8.2 in /usr/local/lib/python3.11/dist-packages (from pandas>=1.3.0->yfinance) (2.9.0.post0)\n",
            "Requirement already satisfied: tzdata>=2022.7 in /usr/local/lib/python3.11/dist-packages (from pandas>=1.3.0->yfinance) (2025.2)\n",
            "Requirement already satisfied: charset-normalizer<4,>=2 in /usr/local/lib/python3.11/dist-packages (from requests>=2.31->yfinance) (3.4.2)\n",
            "Requirement already satisfied: idna<4,>=2.5 in /usr/local/lib/python3.11/dist-packages (from requests>=2.31->yfinance) (3.10)\n",
            "Requirement already satisfied: urllib3<3,>=1.21.1 in /usr/local/lib/python3.11/dist-packages (from requests>=2.31->yfinance) (2.4.0)\n",
            "Requirement already satisfied: pycparser in /usr/local/lib/python3.11/dist-packages (from cffi>=1.12.0->curl_cffi>=0.7->yfinance) (2.22)\n",
            "Requirement already satisfied: six>=1.5 in /usr/local/lib/python3.11/dist-packages (from python-dateutil>=2.8.2->pandas>=1.3.0->yfinance) (1.17.0)\n"
          ]
        }
      ],
      "source": [
        "!pip install --upgrade yfinance"
      ]
    },
    {
      "cell_type": "code",
      "execution_count": 3,
      "metadata": {
        "id": "7mlZO9CIFCsw"
      },
      "outputs": [],
      "source": [
        "from google.colab import auth\n",
        "from google.colab import files\n",
        "import yfinance as yf\n",
        "import pandas as pd\n",
        "from pathlib import Path\n",
        "import datetime\n",
        "import pytz\n",
        "from dateutil.relativedelta import relativedelta\n",
        "import numpy as np\n",
        "from ta.momentum import StochRSIIndicator as stoch_rsi\n",
        "from ta.momentum import RSIIndicator as rsi\n",
        "from sklearn.preprocessing import LabelEncoder\n",
        "from sklearn.preprocessing import StandardScaler\n",
        "from sklearn.preprocessing import MinMaxScaler\n",
        "from numpy.lib.stride_tricks import sliding_window_view\n",
        "from sklearn.preprocessing import MinMaxScaler\n",
        "from numpy.lib.stride_tricks import sliding_window_view\n",
        "import matplotlib.pyplot as plt\n",
        "from scipy import stats\n",
        "# tf libraries\n",
        "from tensorflow.keras.layers import Dense, Concatenate, LSTM, Input, Embedding, Flatten\n",
        "from tensorflow.keras.models import Model\n",
        "from sklearn.metrics import mean_squared_error\n",
        "from tensorflow.keras.regularizers import l2\n",
        "from tensorflow.keras.initializers import HeNormal\n",
        "from tensorflow.keras.models import load_model\n",
        "from tensorflow.keras.callbacks import EarlyStopping\n",
        "from keras.losses import mean_squared_error as mse"
      ]
    },
    {
      "cell_type": "markdown",
      "metadata": {
        "id": "Nylg4V5CYIJ7"
      },
      "source": [
        "# Parameters"
      ]
    },
    {
      "cell_type": "markdown",
      "metadata": {
        "id": "mMPplp5OSRY8"
      },
      "source": [
        "### Ticker list"
      ]
    },
    {
      "cell_type": "code",
      "execution_count": 4,
      "metadata": {
        "id": "QRyzTMBWSTYX"
      },
      "outputs": [],
      "source": [
        "# 1) Choose which ticker file to read\n",
        "ticker_file = 'NASDAQ100_2023.csv'\n",
        "# 2) Choose which ticker list to use\n",
        "ticker_list = 'Holding Ticker'"
      ]
    },
    {
      "cell_type": "markdown",
      "metadata": {
        "id": "1n4u86ANaMCK"
      },
      "source": [
        "### Simulation parameters"
      ]
    },
    {
      "cell_type": "code",
      "execution_count": 5,
      "metadata": {
        "id": "ZRSoW-EwaORE"
      },
      "outputs": [],
      "source": [
        "# 1) Choose the length of the move which we want to predict (in trading days)\n",
        "resp_length = 45\n",
        "# 2) Choose the first date of the simulation\n",
        "sim_start = datetime.date(2023, 1, 1)\n",
        "# 3) Set the number of epochs\n",
        "epochs = 200\n",
        "# 4) Set the batch size\n",
        "batches = 64\n",
        "# 5) Set the regularization lambda value\n",
        "reg = 0.00005\n",
        "# 6) Set the patience for Early Stopping\n",
        "patience = 5\n",
        "# 7) Choose how often you want the model to be retrained in the simulation (in\n",
        "#    number of resp_length periods), set to 0 to only train once\n",
        "retrain_frequency = resp_length * 999999\n",
        "# 8) Set the starting capital for the simulaiton\n",
        "nav = 1_000_000\n",
        "# 9) Specify the risk free asset\n",
        "risk_free_asset = 'QQQ'\n",
        "# 10) Specify the number of simulations to run\n",
        "num_sims = 1\n",
        "# 11) Rating cutoff (min rating needed)\n",
        "SR = 1\n",
        "# 12) Long short or long only\n",
        "long_short = True\n",
        "# 13) Choose number of daily candles\n",
        "num_day_candles = 200"
      ]
    },
    {
      "cell_type": "markdown",
      "metadata": {
        "id": "QyONY-APANSf"
      },
      "source": [
        "## Data"
      ]
    },
    {
      "cell_type": "markdown",
      "metadata": {
        "id": "gyvCyZ-LARiN"
      },
      "source": [
        "### Get ticker list from GCloud"
      ]
    },
    {
      "cell_type": "code",
      "execution_count": 6,
      "metadata": {
        "colab": {
          "base_uri": "https://localhost:8080/"
        },
        "id": "qnzBHnLBAbEV",
        "outputId": "61f114ec-48dc-44e2-926b-fe4eb627e945"
      },
      "outputs": [
        {
          "output_type": "stream",
          "name": "stdout",
          "text": [
            "\n",
            "WARNING: gsutil rsync uses hashes when modification time is not available at\n",
            "both the source and destination. Your crcmod installation isn't using the\n",
            "module's C extension, so checksumming will run very slowly. If this is your\n",
            "first rsync since updating gsutil, this rsync can take significantly longer than\n",
            "usual. For help installing the extension, please see \"gsutil help crcmod\".\n",
            "\n",
            "Building synchronization state...\n",
            "Starting synchronization...\n"
          ]
        }
      ],
      "source": [
        "# authenticate user\n",
        "auth.authenticate_user()\n",
        "\n",
        "# command to copy the data from GCloud\n",
        "!gsutil -m rsync -r gs://first-aaai-data-bucket/V2_ticker_lists/ /content/\n",
        "\n",
        "# list of tickers\n",
        "ai90 = list(set(list(pd.read_csv(ticker_file)[ticker_list])))\n",
        "ai90 = [a for a in ai90 if isinstance(a, str)]"
      ]
    },
    {
      "cell_type": "markdown",
      "metadata": {
        "id": "gEpwWyAUAWv3"
      },
      "source": [
        "### Get the chart data from YFinance\n",
        "\n"
      ]
    },
    {
      "cell_type": "code",
      "source": [
        "# output the ticker list\n",
        "print('Tickers being traded:')\n",
        "print('')\n",
        "for i, ticker in enumerate(ai90):\n",
        "    print(f'{i+1}. {ticker}')"
      ],
      "metadata": {
        "colab": {
          "base_uri": "https://localhost:8080/"
        },
        "id": "8IcCUy8yVqzE",
        "outputId": "e17d748d-1ca1-466c-b62b-573f6e1c8166"
      },
      "execution_count": 7,
      "outputs": [
        {
          "output_type": "stream",
          "name": "stdout",
          "text": [
            "Tickers being traded:\n",
            "\n",
            "1. AEP \n",
            "2. PDD \n",
            "3. GILD \n",
            "4. AMD \n",
            "5. ZS \n",
            "6. CHTR \n",
            "7. GFS \n",
            "8. SBUX \n",
            "9. WDAY \n",
            "10. TMUS \n",
            "11. PCAR \n",
            "12. EA \n",
            "13. WBD \n",
            "14. INTU \n",
            "15. PEP \n",
            "16. CDNS \n",
            "17. KLAC \n",
            "18. EXC \n",
            "19. CRWD \n",
            "20. ALGN \n",
            "21. LCID \n",
            "22. CSGP \n",
            "23. SMCI \n",
            "24. REGN \n",
            "25. ON \n",
            "26. TXN \n",
            "27. NFLX \n",
            "28. ASML \n",
            "29. NXPI \n",
            "30. CTSH \n",
            "31. ILMN \n",
            "32. TTWO \n",
            "33. BKNG \n",
            "34. MNST \n",
            "35. ODFL \n",
            "36. ROST \n",
            "37. VRSK \n",
            "38. ARM \n",
            "39. FANG \n",
            "40. AMZN \n",
            "41. MSFT \n",
            "42. COST \n",
            "43. LULU \n",
            "44. TEAM \n",
            "45. BIIB \n",
            "46. MCHP \n",
            "47. MAR \n",
            "48. KDP \n",
            "49. BKR \n",
            "50. CSCO \n",
            "51. CMCSA \n",
            "52. TSLA \n",
            "53. LRCX \n",
            "54. IDXX \n",
            "55. ISRG \n",
            "56. APP \n",
            "57. PYPL \n",
            "58. AVGO \n",
            "59. EBAY \n",
            "60. INTC \n",
            "61. MRNA \n",
            "62. CEG \n",
            "63. PAYX \n",
            "64. GOOG \n",
            "65. XEL \n",
            "66. ADI \n",
            "67. AAPL \n",
            "68. DXCM \n",
            "69. GEHC \n",
            "70. ADSK \n",
            "71. AZN \n",
            "72. QCOM \n",
            "73. MRVL \n",
            "74. MELI \n",
            "75. KHC \n",
            "76. ZM \n",
            "77. JD \n",
            "78. ORLY \n",
            "79. GOOGL \n",
            "80. CPRT \n",
            "81. MU \n",
            "82. META \n",
            "83. CTAS \n",
            "84. ENPH \n",
            "85. TTD \n",
            "86. NVDA \n",
            "87. FAST \n",
            "88. AMGN \n",
            "89. PANW \n",
            "90. SNPS \n",
            "91. MDLZ \n",
            "92. ABNB \n",
            "93. FTNT \n",
            "94. ANSS \n",
            "95. HON \n",
            "96. CSX \n",
            "97. VRTX \n",
            "98. ADP \n",
            "99. AMAT \n",
            "100. DDOG \n",
            "101. ADBE \n"
          ]
        }
      ]
    },
    {
      "cell_type": "code",
      "execution_count": 8,
      "metadata": {
        "colab": {
          "base_uri": "https://localhost:8080/"
        },
        "id": "ElOpnrCL_68S",
        "outputId": "7f48818a-381b-4511-eade-743a9c02bdd7"
      },
      "outputs": [
        {
          "output_type": "stream",
          "name": "stderr",
          "text": [
            "/tmp/ipython-input-8-2556899330.py:2: FutureWarning: YF.download() has changed argument auto_adjust default to True\n",
            "  day_charts = [yf.download(ticker, period = 'max', interval = '1d') for ticker in ai90]\n",
            "[*********************100%***********************]  1 of 1 completed\n",
            "/tmp/ipython-input-8-2556899330.py:2: FutureWarning: YF.download() has changed argument auto_adjust default to True\n",
            "  day_charts = [yf.download(ticker, period = 'max', interval = '1d') for ticker in ai90]\n",
            "[*********************100%***********************]  1 of 1 completed\n",
            "/tmp/ipython-input-8-2556899330.py:2: FutureWarning: YF.download() has changed argument auto_adjust default to True\n",
            "  day_charts = [yf.download(ticker, period = 'max', interval = '1d') for ticker in ai90]\n",
            "[*********************100%***********************]  1 of 1 completed\n",
            "/tmp/ipython-input-8-2556899330.py:2: FutureWarning: YF.download() has changed argument auto_adjust default to True\n",
            "  day_charts = [yf.download(ticker, period = 'max', interval = '1d') for ticker in ai90]\n",
            "[*********************100%***********************]  1 of 1 completed\n",
            "/tmp/ipython-input-8-2556899330.py:2: FutureWarning: YF.download() has changed argument auto_adjust default to True\n",
            "  day_charts = [yf.download(ticker, period = 'max', interval = '1d') for ticker in ai90]\n",
            "[*********************100%***********************]  1 of 1 completed\n",
            "/tmp/ipython-input-8-2556899330.py:2: FutureWarning: YF.download() has changed argument auto_adjust default to True\n",
            "  day_charts = [yf.download(ticker, period = 'max', interval = '1d') for ticker in ai90]\n",
            "[*********************100%***********************]  1 of 1 completed\n",
            "/tmp/ipython-input-8-2556899330.py:2: FutureWarning: YF.download() has changed argument auto_adjust default to True\n",
            "  day_charts = [yf.download(ticker, period = 'max', interval = '1d') for ticker in ai90]\n",
            "[*********************100%***********************]  1 of 1 completed\n",
            "/tmp/ipython-input-8-2556899330.py:2: FutureWarning: YF.download() has changed argument auto_adjust default to True\n",
            "  day_charts = [yf.download(ticker, period = 'max', interval = '1d') for ticker in ai90]\n",
            "[*********************100%***********************]  1 of 1 completed\n",
            "/tmp/ipython-input-8-2556899330.py:2: FutureWarning: YF.download() has changed argument auto_adjust default to True\n",
            "  day_charts = [yf.download(ticker, period = 'max', interval = '1d') for ticker in ai90]\n",
            "[*********************100%***********************]  1 of 1 completed\n",
            "/tmp/ipython-input-8-2556899330.py:2: FutureWarning: YF.download() has changed argument auto_adjust default to True\n",
            "  day_charts = [yf.download(ticker, period = 'max', interval = '1d') for ticker in ai90]\n",
            "[*********************100%***********************]  1 of 1 completed\n",
            "/tmp/ipython-input-8-2556899330.py:2: FutureWarning: YF.download() has changed argument auto_adjust default to True\n",
            "  day_charts = [yf.download(ticker, period = 'max', interval = '1d') for ticker in ai90]\n",
            "[*********************100%***********************]  1 of 1 completed\n",
            "/tmp/ipython-input-8-2556899330.py:2: FutureWarning: YF.download() has changed argument auto_adjust default to True\n",
            "  day_charts = [yf.download(ticker, period = 'max', interval = '1d') for ticker in ai90]\n",
            "[*********************100%***********************]  1 of 1 completed\n",
            "/tmp/ipython-input-8-2556899330.py:2: FutureWarning: YF.download() has changed argument auto_adjust default to True\n",
            "  day_charts = [yf.download(ticker, period = 'max', interval = '1d') for ticker in ai90]\n",
            "[*********************100%***********************]  1 of 1 completed\n",
            "/tmp/ipython-input-8-2556899330.py:2: FutureWarning: YF.download() has changed argument auto_adjust default to True\n",
            "  day_charts = [yf.download(ticker, period = 'max', interval = '1d') for ticker in ai90]\n",
            "[*********************100%***********************]  1 of 1 completed\n",
            "/tmp/ipython-input-8-2556899330.py:2: FutureWarning: YF.download() has changed argument auto_adjust default to True\n",
            "  day_charts = [yf.download(ticker, period = 'max', interval = '1d') for ticker in ai90]\n",
            "[*********************100%***********************]  1 of 1 completed\n",
            "/tmp/ipython-input-8-2556899330.py:2: FutureWarning: YF.download() has changed argument auto_adjust default to True\n",
            "  day_charts = [yf.download(ticker, period = 'max', interval = '1d') for ticker in ai90]\n",
            "[*********************100%***********************]  1 of 1 completed\n",
            "/tmp/ipython-input-8-2556899330.py:2: FutureWarning: YF.download() has changed argument auto_adjust default to True\n",
            "  day_charts = [yf.download(ticker, period = 'max', interval = '1d') for ticker in ai90]\n",
            "[*********************100%***********************]  1 of 1 completed\n",
            "/tmp/ipython-input-8-2556899330.py:2: FutureWarning: YF.download() has changed argument auto_adjust default to True\n",
            "  day_charts = [yf.download(ticker, period = 'max', interval = '1d') for ticker in ai90]\n",
            "[*********************100%***********************]  1 of 1 completed\n",
            "/tmp/ipython-input-8-2556899330.py:2: FutureWarning: YF.download() has changed argument auto_adjust default to True\n",
            "  day_charts = [yf.download(ticker, period = 'max', interval = '1d') for ticker in ai90]\n",
            "[*********************100%***********************]  1 of 1 completed\n",
            "/tmp/ipython-input-8-2556899330.py:2: FutureWarning: YF.download() has changed argument auto_adjust default to True\n",
            "  day_charts = [yf.download(ticker, period = 'max', interval = '1d') for ticker in ai90]\n",
            "[*********************100%***********************]  1 of 1 completed\n",
            "/tmp/ipython-input-8-2556899330.py:2: FutureWarning: YF.download() has changed argument auto_adjust default to True\n",
            "  day_charts = [yf.download(ticker, period = 'max', interval = '1d') for ticker in ai90]\n",
            "[*********************100%***********************]  1 of 1 completed\n",
            "/tmp/ipython-input-8-2556899330.py:2: FutureWarning: YF.download() has changed argument auto_adjust default to True\n",
            "  day_charts = [yf.download(ticker, period = 'max', interval = '1d') for ticker in ai90]\n",
            "[*********************100%***********************]  1 of 1 completed\n",
            "/tmp/ipython-input-8-2556899330.py:2: FutureWarning: YF.download() has changed argument auto_adjust default to True\n",
            "  day_charts = [yf.download(ticker, period = 'max', interval = '1d') for ticker in ai90]\n",
            "[*********************100%***********************]  1 of 1 completed\n",
            "/tmp/ipython-input-8-2556899330.py:2: FutureWarning: YF.download() has changed argument auto_adjust default to True\n",
            "  day_charts = [yf.download(ticker, period = 'max', interval = '1d') for ticker in ai90]\n",
            "[*********************100%***********************]  1 of 1 completed\n",
            "/tmp/ipython-input-8-2556899330.py:2: FutureWarning: YF.download() has changed argument auto_adjust default to True\n",
            "  day_charts = [yf.download(ticker, period = 'max', interval = '1d') for ticker in ai90]\n",
            "[*********************100%***********************]  1 of 1 completed\n",
            "/tmp/ipython-input-8-2556899330.py:2: FutureWarning: YF.download() has changed argument auto_adjust default to True\n",
            "  day_charts = [yf.download(ticker, period = 'max', interval = '1d') for ticker in ai90]\n",
            "[*********************100%***********************]  1 of 1 completed\n",
            "/tmp/ipython-input-8-2556899330.py:2: FutureWarning: YF.download() has changed argument auto_adjust default to True\n",
            "  day_charts = [yf.download(ticker, period = 'max', interval = '1d') for ticker in ai90]\n",
            "[*********************100%***********************]  1 of 1 completed\n",
            "/tmp/ipython-input-8-2556899330.py:2: FutureWarning: YF.download() has changed argument auto_adjust default to True\n",
            "  day_charts = [yf.download(ticker, period = 'max', interval = '1d') for ticker in ai90]\n",
            "[*********************100%***********************]  1 of 1 completed\n",
            "/tmp/ipython-input-8-2556899330.py:2: FutureWarning: YF.download() has changed argument auto_adjust default to True\n",
            "  day_charts = [yf.download(ticker, period = 'max', interval = '1d') for ticker in ai90]\n",
            "[*********************100%***********************]  1 of 1 completed\n",
            "/tmp/ipython-input-8-2556899330.py:2: FutureWarning: YF.download() has changed argument auto_adjust default to True\n",
            "  day_charts = [yf.download(ticker, period = 'max', interval = '1d') for ticker in ai90]\n",
            "[*********************100%***********************]  1 of 1 completed\n",
            "/tmp/ipython-input-8-2556899330.py:2: FutureWarning: YF.download() has changed argument auto_adjust default to True\n",
            "  day_charts = [yf.download(ticker, period = 'max', interval = '1d') for ticker in ai90]\n",
            "[*********************100%***********************]  1 of 1 completed\n",
            "/tmp/ipython-input-8-2556899330.py:2: FutureWarning: YF.download() has changed argument auto_adjust default to True\n",
            "  day_charts = [yf.download(ticker, period = 'max', interval = '1d') for ticker in ai90]\n",
            "[*********************100%***********************]  1 of 1 completed\n",
            "/tmp/ipython-input-8-2556899330.py:2: FutureWarning: YF.download() has changed argument auto_adjust default to True\n",
            "  day_charts = [yf.download(ticker, period = 'max', interval = '1d') for ticker in ai90]\n",
            "[*********************100%***********************]  1 of 1 completed\n",
            "/tmp/ipython-input-8-2556899330.py:2: FutureWarning: YF.download() has changed argument auto_adjust default to True\n",
            "  day_charts = [yf.download(ticker, period = 'max', interval = '1d') for ticker in ai90]\n",
            "[*********************100%***********************]  1 of 1 completed\n",
            "/tmp/ipython-input-8-2556899330.py:2: FutureWarning: YF.download() has changed argument auto_adjust default to True\n",
            "  day_charts = [yf.download(ticker, period = 'max', interval = '1d') for ticker in ai90]\n",
            "[*********************100%***********************]  1 of 1 completed\n",
            "/tmp/ipython-input-8-2556899330.py:2: FutureWarning: YF.download() has changed argument auto_adjust default to True\n",
            "  day_charts = [yf.download(ticker, period = 'max', interval = '1d') for ticker in ai90]\n",
            "[*********************100%***********************]  1 of 1 completed\n",
            "/tmp/ipython-input-8-2556899330.py:2: FutureWarning: YF.download() has changed argument auto_adjust default to True\n",
            "  day_charts = [yf.download(ticker, period = 'max', interval = '1d') for ticker in ai90]\n",
            "[*********************100%***********************]  1 of 1 completed\n",
            "/tmp/ipython-input-8-2556899330.py:2: FutureWarning: YF.download() has changed argument auto_adjust default to True\n",
            "  day_charts = [yf.download(ticker, period = 'max', interval = '1d') for ticker in ai90]\n",
            "[*********************100%***********************]  1 of 1 completed\n",
            "/tmp/ipython-input-8-2556899330.py:2: FutureWarning: YF.download() has changed argument auto_adjust default to True\n",
            "  day_charts = [yf.download(ticker, period = 'max', interval = '1d') for ticker in ai90]\n",
            "[*********************100%***********************]  1 of 1 completed\n",
            "/tmp/ipython-input-8-2556899330.py:2: FutureWarning: YF.download() has changed argument auto_adjust default to True\n",
            "  day_charts = [yf.download(ticker, period = 'max', interval = '1d') for ticker in ai90]\n",
            "[*********************100%***********************]  1 of 1 completed\n",
            "/tmp/ipython-input-8-2556899330.py:2: FutureWarning: YF.download() has changed argument auto_adjust default to True\n",
            "  day_charts = [yf.download(ticker, period = 'max', interval = '1d') for ticker in ai90]\n",
            "[*********************100%***********************]  1 of 1 completed\n",
            "/tmp/ipython-input-8-2556899330.py:2: FutureWarning: YF.download() has changed argument auto_adjust default to True\n",
            "  day_charts = [yf.download(ticker, period = 'max', interval = '1d') for ticker in ai90]\n",
            "[*********************100%***********************]  1 of 1 completed\n",
            "/tmp/ipython-input-8-2556899330.py:2: FutureWarning: YF.download() has changed argument auto_adjust default to True\n",
            "  day_charts = [yf.download(ticker, period = 'max', interval = '1d') for ticker in ai90]\n",
            "[*********************100%***********************]  1 of 1 completed\n",
            "/tmp/ipython-input-8-2556899330.py:2: FutureWarning: YF.download() has changed argument auto_adjust default to True\n",
            "  day_charts = [yf.download(ticker, period = 'max', interval = '1d') for ticker in ai90]\n",
            "[*********************100%***********************]  1 of 1 completed\n",
            "/tmp/ipython-input-8-2556899330.py:2: FutureWarning: YF.download() has changed argument auto_adjust default to True\n",
            "  day_charts = [yf.download(ticker, period = 'max', interval = '1d') for ticker in ai90]\n",
            "[*********************100%***********************]  1 of 1 completed\n",
            "/tmp/ipython-input-8-2556899330.py:2: FutureWarning: YF.download() has changed argument auto_adjust default to True\n",
            "  day_charts = [yf.download(ticker, period = 'max', interval = '1d') for ticker in ai90]\n",
            "[*********************100%***********************]  1 of 1 completed\n",
            "/tmp/ipython-input-8-2556899330.py:2: FutureWarning: YF.download() has changed argument auto_adjust default to True\n",
            "  day_charts = [yf.download(ticker, period = 'max', interval = '1d') for ticker in ai90]\n",
            "[*********************100%***********************]  1 of 1 completed\n",
            "/tmp/ipython-input-8-2556899330.py:2: FutureWarning: YF.download() has changed argument auto_adjust default to True\n",
            "  day_charts = [yf.download(ticker, period = 'max', interval = '1d') for ticker in ai90]\n",
            "[*********************100%***********************]  1 of 1 completed\n",
            "/tmp/ipython-input-8-2556899330.py:2: FutureWarning: YF.download() has changed argument auto_adjust default to True\n",
            "  day_charts = [yf.download(ticker, period = 'max', interval = '1d') for ticker in ai90]\n",
            "[*********************100%***********************]  1 of 1 completed\n",
            "/tmp/ipython-input-8-2556899330.py:2: FutureWarning: YF.download() has changed argument auto_adjust default to True\n",
            "  day_charts = [yf.download(ticker, period = 'max', interval = '1d') for ticker in ai90]\n",
            "[*********************100%***********************]  1 of 1 completed\n",
            "/tmp/ipython-input-8-2556899330.py:2: FutureWarning: YF.download() has changed argument auto_adjust default to True\n",
            "  day_charts = [yf.download(ticker, period = 'max', interval = '1d') for ticker in ai90]\n",
            "[*********************100%***********************]  1 of 1 completed\n",
            "/tmp/ipython-input-8-2556899330.py:2: FutureWarning: YF.download() has changed argument auto_adjust default to True\n",
            "  day_charts = [yf.download(ticker, period = 'max', interval = '1d') for ticker in ai90]\n",
            "[*********************100%***********************]  1 of 1 completed\n",
            "/tmp/ipython-input-8-2556899330.py:2: FutureWarning: YF.download() has changed argument auto_adjust default to True\n",
            "  day_charts = [yf.download(ticker, period = 'max', interval = '1d') for ticker in ai90]\n",
            "[*********************100%***********************]  1 of 1 completed\n",
            "/tmp/ipython-input-8-2556899330.py:2: FutureWarning: YF.download() has changed argument auto_adjust default to True\n",
            "  day_charts = [yf.download(ticker, period = 'max', interval = '1d') for ticker in ai90]\n",
            "[*********************100%***********************]  1 of 1 completed\n",
            "/tmp/ipython-input-8-2556899330.py:2: FutureWarning: YF.download() has changed argument auto_adjust default to True\n",
            "  day_charts = [yf.download(ticker, period = 'max', interval = '1d') for ticker in ai90]\n",
            "[*********************100%***********************]  1 of 1 completed\n",
            "/tmp/ipython-input-8-2556899330.py:2: FutureWarning: YF.download() has changed argument auto_adjust default to True\n",
            "  day_charts = [yf.download(ticker, period = 'max', interval = '1d') for ticker in ai90]\n",
            "[*********************100%***********************]  1 of 1 completed\n",
            "/tmp/ipython-input-8-2556899330.py:2: FutureWarning: YF.download() has changed argument auto_adjust default to True\n",
            "  day_charts = [yf.download(ticker, period = 'max', interval = '1d') for ticker in ai90]\n",
            "[*********************100%***********************]  1 of 1 completed\n",
            "/tmp/ipython-input-8-2556899330.py:2: FutureWarning: YF.download() has changed argument auto_adjust default to True\n",
            "  day_charts = [yf.download(ticker, period = 'max', interval = '1d') for ticker in ai90]\n",
            "[*********************100%***********************]  1 of 1 completed\n",
            "/tmp/ipython-input-8-2556899330.py:2: FutureWarning: YF.download() has changed argument auto_adjust default to True\n",
            "  day_charts = [yf.download(ticker, period = 'max', interval = '1d') for ticker in ai90]\n",
            "[*********************100%***********************]  1 of 1 completed\n",
            "/tmp/ipython-input-8-2556899330.py:2: FutureWarning: YF.download() has changed argument auto_adjust default to True\n",
            "  day_charts = [yf.download(ticker, period = 'max', interval = '1d') for ticker in ai90]\n",
            "[*********************100%***********************]  1 of 1 completed\n",
            "/tmp/ipython-input-8-2556899330.py:2: FutureWarning: YF.download() has changed argument auto_adjust default to True\n",
            "  day_charts = [yf.download(ticker, period = 'max', interval = '1d') for ticker in ai90]\n",
            "[*********************100%***********************]  1 of 1 completed\n",
            "/tmp/ipython-input-8-2556899330.py:2: FutureWarning: YF.download() has changed argument auto_adjust default to True\n",
            "  day_charts = [yf.download(ticker, period = 'max', interval = '1d') for ticker in ai90]\n",
            "[*********************100%***********************]  1 of 1 completed\n",
            "/tmp/ipython-input-8-2556899330.py:2: FutureWarning: YF.download() has changed argument auto_adjust default to True\n",
            "  day_charts = [yf.download(ticker, period = 'max', interval = '1d') for ticker in ai90]\n",
            "[*********************100%***********************]  1 of 1 completed\n",
            "/tmp/ipython-input-8-2556899330.py:2: FutureWarning: YF.download() has changed argument auto_adjust default to True\n",
            "  day_charts = [yf.download(ticker, period = 'max', interval = '1d') for ticker in ai90]\n",
            "[*********************100%***********************]  1 of 1 completed\n",
            "/tmp/ipython-input-8-2556899330.py:2: FutureWarning: YF.download() has changed argument auto_adjust default to True\n",
            "  day_charts = [yf.download(ticker, period = 'max', interval = '1d') for ticker in ai90]\n",
            "[*********************100%***********************]  1 of 1 completed\n",
            "/tmp/ipython-input-8-2556899330.py:2: FutureWarning: YF.download() has changed argument auto_adjust default to True\n",
            "  day_charts = [yf.download(ticker, period = 'max', interval = '1d') for ticker in ai90]\n",
            "[*********************100%***********************]  1 of 1 completed\n",
            "/tmp/ipython-input-8-2556899330.py:2: FutureWarning: YF.download() has changed argument auto_adjust default to True\n",
            "  day_charts = [yf.download(ticker, period = 'max', interval = '1d') for ticker in ai90]\n",
            "[*********************100%***********************]  1 of 1 completed\n",
            "/tmp/ipython-input-8-2556899330.py:2: FutureWarning: YF.download() has changed argument auto_adjust default to True\n",
            "  day_charts = [yf.download(ticker, period = 'max', interval = '1d') for ticker in ai90]\n",
            "[*********************100%***********************]  1 of 1 completed\n",
            "/tmp/ipython-input-8-2556899330.py:2: FutureWarning: YF.download() has changed argument auto_adjust default to True\n",
            "  day_charts = [yf.download(ticker, period = 'max', interval = '1d') for ticker in ai90]\n",
            "[*********************100%***********************]  1 of 1 completed\n",
            "/tmp/ipython-input-8-2556899330.py:2: FutureWarning: YF.download() has changed argument auto_adjust default to True\n",
            "  day_charts = [yf.download(ticker, period = 'max', interval = '1d') for ticker in ai90]\n",
            "[*********************100%***********************]  1 of 1 completed\n",
            "/tmp/ipython-input-8-2556899330.py:2: FutureWarning: YF.download() has changed argument auto_adjust default to True\n",
            "  day_charts = [yf.download(ticker, period = 'max', interval = '1d') for ticker in ai90]\n",
            "[*********************100%***********************]  1 of 1 completed\n",
            "/tmp/ipython-input-8-2556899330.py:2: FutureWarning: YF.download() has changed argument auto_adjust default to True\n",
            "  day_charts = [yf.download(ticker, period = 'max', interval = '1d') for ticker in ai90]\n",
            "[*********************100%***********************]  1 of 1 completed\n",
            "/tmp/ipython-input-8-2556899330.py:2: FutureWarning: YF.download() has changed argument auto_adjust default to True\n",
            "  day_charts = [yf.download(ticker, period = 'max', interval = '1d') for ticker in ai90]\n",
            "[*********************100%***********************]  1 of 1 completed\n",
            "/tmp/ipython-input-8-2556899330.py:2: FutureWarning: YF.download() has changed argument auto_adjust default to True\n",
            "  day_charts = [yf.download(ticker, period = 'max', interval = '1d') for ticker in ai90]\n",
            "[*********************100%***********************]  1 of 1 completed\n",
            "/tmp/ipython-input-8-2556899330.py:2: FutureWarning: YF.download() has changed argument auto_adjust default to True\n",
            "  day_charts = [yf.download(ticker, period = 'max', interval = '1d') for ticker in ai90]\n",
            "[*********************100%***********************]  1 of 1 completed\n",
            "/tmp/ipython-input-8-2556899330.py:2: FutureWarning: YF.download() has changed argument auto_adjust default to True\n",
            "  day_charts = [yf.download(ticker, period = 'max', interval = '1d') for ticker in ai90]\n",
            "[*********************100%***********************]  1 of 1 completed\n",
            "/tmp/ipython-input-8-2556899330.py:2: FutureWarning: YF.download() has changed argument auto_adjust default to True\n",
            "  day_charts = [yf.download(ticker, period = 'max', interval = '1d') for ticker in ai90]\n",
            "[*********************100%***********************]  1 of 1 completed\n",
            "/tmp/ipython-input-8-2556899330.py:2: FutureWarning: YF.download() has changed argument auto_adjust default to True\n",
            "  day_charts = [yf.download(ticker, period = 'max', interval = '1d') for ticker in ai90]\n",
            "[*********************100%***********************]  1 of 1 completed\n",
            "/tmp/ipython-input-8-2556899330.py:2: FutureWarning: YF.download() has changed argument auto_adjust default to True\n",
            "  day_charts = [yf.download(ticker, period = 'max', interval = '1d') for ticker in ai90]\n",
            "[*********************100%***********************]  1 of 1 completed\n",
            "/tmp/ipython-input-8-2556899330.py:2: FutureWarning: YF.download() has changed argument auto_adjust default to True\n",
            "  day_charts = [yf.download(ticker, period = 'max', interval = '1d') for ticker in ai90]\n",
            "[*********************100%***********************]  1 of 1 completed\n",
            "/tmp/ipython-input-8-2556899330.py:2: FutureWarning: YF.download() has changed argument auto_adjust default to True\n",
            "  day_charts = [yf.download(ticker, period = 'max', interval = '1d') for ticker in ai90]\n",
            "[*********************100%***********************]  1 of 1 completed\n",
            "/tmp/ipython-input-8-2556899330.py:2: FutureWarning: YF.download() has changed argument auto_adjust default to True\n",
            "  day_charts = [yf.download(ticker, period = 'max', interval = '1d') for ticker in ai90]\n",
            "[*********************100%***********************]  1 of 1 completed\n",
            "/tmp/ipython-input-8-2556899330.py:2: FutureWarning: YF.download() has changed argument auto_adjust default to True\n",
            "  day_charts = [yf.download(ticker, period = 'max', interval = '1d') for ticker in ai90]\n",
            "[*********************100%***********************]  1 of 1 completed\n",
            "/tmp/ipython-input-8-2556899330.py:2: FutureWarning: YF.download() has changed argument auto_adjust default to True\n",
            "  day_charts = [yf.download(ticker, period = 'max', interval = '1d') for ticker in ai90]\n",
            "[*********************100%***********************]  1 of 1 completed\n",
            "/tmp/ipython-input-8-2556899330.py:2: FutureWarning: YF.download() has changed argument auto_adjust default to True\n",
            "  day_charts = [yf.download(ticker, period = 'max', interval = '1d') for ticker in ai90]\n",
            "[*********************100%***********************]  1 of 1 completed\n",
            "/tmp/ipython-input-8-2556899330.py:2: FutureWarning: YF.download() has changed argument auto_adjust default to True\n",
            "  day_charts = [yf.download(ticker, period = 'max', interval = '1d') for ticker in ai90]\n",
            "[*********************100%***********************]  1 of 1 completed\n",
            "/tmp/ipython-input-8-2556899330.py:2: FutureWarning: YF.download() has changed argument auto_adjust default to True\n",
            "  day_charts = [yf.download(ticker, period = 'max', interval = '1d') for ticker in ai90]\n",
            "[*********************100%***********************]  1 of 1 completed\n",
            "/tmp/ipython-input-8-2556899330.py:2: FutureWarning: YF.download() has changed argument auto_adjust default to True\n",
            "  day_charts = [yf.download(ticker, period = 'max', interval = '1d') for ticker in ai90]\n",
            "[*********************100%***********************]  1 of 1 completed\n",
            "/tmp/ipython-input-8-2556899330.py:2: FutureWarning: YF.download() has changed argument auto_adjust default to True\n",
            "  day_charts = [yf.download(ticker, period = 'max', interval = '1d') for ticker in ai90]\n",
            "[*********************100%***********************]  1 of 1 completed\n",
            "/tmp/ipython-input-8-2556899330.py:2: FutureWarning: YF.download() has changed argument auto_adjust default to True\n",
            "  day_charts = [yf.download(ticker, period = 'max', interval = '1d') for ticker in ai90]\n",
            "[*********************100%***********************]  1 of 1 completed\n",
            "/tmp/ipython-input-8-2556899330.py:2: FutureWarning: YF.download() has changed argument auto_adjust default to True\n",
            "  day_charts = [yf.download(ticker, period = 'max', interval = '1d') for ticker in ai90]\n",
            "[*********************100%***********************]  1 of 1 completed\n",
            "/tmp/ipython-input-8-2556899330.py:2: FutureWarning: YF.download() has changed argument auto_adjust default to True\n",
            "  day_charts = [yf.download(ticker, period = 'max', interval = '1d') for ticker in ai90]\n",
            "[*********************100%***********************]  1 of 1 completed\n",
            "/tmp/ipython-input-8-2556899330.py:2: FutureWarning: YF.download() has changed argument auto_adjust default to True\n",
            "  day_charts = [yf.download(ticker, period = 'max', interval = '1d') for ticker in ai90]\n",
            "[*********************100%***********************]  1 of 1 completed\n",
            "/tmp/ipython-input-8-2556899330.py:2: FutureWarning: YF.download() has changed argument auto_adjust default to True\n",
            "  day_charts = [yf.download(ticker, period = 'max', interval = '1d') for ticker in ai90]\n",
            "[*********************100%***********************]  1 of 1 completed\n",
            "/tmp/ipython-input-8-2556899330.py:2: FutureWarning: YF.download() has changed argument auto_adjust default to True\n",
            "  day_charts = [yf.download(ticker, period = 'max', interval = '1d') for ticker in ai90]\n",
            "[*********************100%***********************]  1 of 1 completed\n",
            "/tmp/ipython-input-8-2556899330.py:2: FutureWarning: YF.download() has changed argument auto_adjust default to True\n",
            "  day_charts = [yf.download(ticker, period = 'max', interval = '1d') for ticker in ai90]\n",
            "[*********************100%***********************]  1 of 1 completed\n",
            "/tmp/ipython-input-8-2556899330.py:2: FutureWarning: YF.download() has changed argument auto_adjust default to True\n",
            "  day_charts = [yf.download(ticker, period = 'max', interval = '1d') for ticker in ai90]\n",
            "[*********************100%***********************]  1 of 1 completed\n",
            "/tmp/ipython-input-8-2556899330.py:2: FutureWarning: YF.download() has changed argument auto_adjust default to True\n",
            "  day_charts = [yf.download(ticker, period = 'max', interval = '1d') for ticker in ai90]\n",
            "[*********************100%***********************]  1 of 1 completed\n",
            "/tmp/ipython-input-8-2556899330.py:2: FutureWarning: YF.download() has changed argument auto_adjust default to True\n",
            "  day_charts = [yf.download(ticker, period = 'max', interval = '1d') for ticker in ai90]\n",
            "[*********************100%***********************]  1 of 1 completed\n",
            "/tmp/ipython-input-8-2556899330.py:2: FutureWarning: YF.download() has changed argument auto_adjust default to True\n",
            "  day_charts = [yf.download(ticker, period = 'max', interval = '1d') for ticker in ai90]\n",
            "[*********************100%***********************]  1 of 1 completed\n",
            "/tmp/ipython-input-8-2556899330.py:2: FutureWarning: YF.download() has changed argument auto_adjust default to True\n",
            "  day_charts = [yf.download(ticker, period = 'max', interval = '1d') for ticker in ai90]\n",
            "[*********************100%***********************]  1 of 1 completed\n"
          ]
        }
      ],
      "source": [
        "# download day, week, and month charts\n",
        "day_charts = [yf.download(ticker, period = 'max', interval = '1d') for ticker in ai90]\n",
        "\n",
        "# drop the multi-level\n",
        "for d in day_charts:\n",
        "    d['symbol'] = d.columns.get_level_values(1)[0]\n",
        "    d.columns = d.columns.droplevel(1)\n",
        "\n",
        "# reset index to get Date column\n",
        "day_charts = [d.reset_index() for d in day_charts]"
      ]
    },
    {
      "cell_type": "markdown",
      "metadata": {
        "id": "WLxKZ8mPBEM2"
      },
      "source": [
        "### Function to preprocess data"
      ]
    },
    {
      "cell_type": "code",
      "execution_count": 9,
      "metadata": {
        "id": "H09iebq22P_q"
      },
      "outputs": [],
      "source": [
        "def train_daily(data, length, resp_length, first_date=pd.to_datetime('2017-01-01')):\n",
        "    '''\n",
        "    Training data for daily candles\n",
        "\n",
        "    Params:\n",
        "        1. data: list of daily charts\n",
        "        2. length: number of daily candles in each time series\n",
        "        3. resp_length: number of days to hold each position\n",
        "        4. first_date: cutoff date for the training data\n",
        "    '''\n",
        "\n",
        "    # 0) get the final data after cutoff date and get y variable\n",
        "    data = [d[(d['Date'].dt.date >= first_date.date())] for i, d in enumerate(data)]\n",
        "    for i, d in enumerate(data):\n",
        "        dc = d.copy()\n",
        "        dc['price_final'] = dc['Open'].shift(-(resp_length+1))\n",
        "        dc['price_initial'] = dc['Open'].shift(-1)\n",
        "        dc = dc[dc['price_final'] > 0]\n",
        "        dc['Change'] = (dc['price_final'] - dc['price_initial']) / dc['price_initial']\n",
        "        dc = dc.drop(columns=['price_final', 'price_initial'])\n",
        "        data[i] = dc\n",
        "    total_obs = sum([len(d)-length+1 for d in data])\n",
        "    # 1) get the month_change, date and ticker information for each day of each ticker\n",
        "    dates = np.zeros(total_obs, dtype=object)\n",
        "    resp = np.zeros(total_obs)\n",
        "    tickers = np.zeros(total_obs)\n",
        "    ci = 0\n",
        "    for i, d in enumerate(data):\n",
        "        dates_vec = d['Date'].dt.date.values\n",
        "        resp_vec = d['Change'].values\n",
        "        tickers_vec = d['symbol'].values\n",
        "        tickers_vec = np.ones(shape=tickers_vec.shape)*i\n",
        "        fdv = dates_vec[length-1:]\n",
        "        frv = resp_vec[length-1:]\n",
        "        ftv = tickers_vec[length-1:]\n",
        "        dates[ci:ci+fdv.shape[0]] = fdv\n",
        "        resp[ci:ci+frv.shape[0]] = frv\n",
        "        tickers[ci:ci+ftv.shape[0]] = ftv\n",
        "        ci += fdv.shape[0]\n",
        "    dates = dates.reshape((-1,1))\n",
        "    resp = resp.reshape((-1,1))\n",
        "    tickers = tickers.reshape((-1,1))\n",
        "    # 2) put the data into SWV & normalize (the -3 here is for the 3 cols that we drop)\n",
        "    data_swv = np.zeros((total_obs, length, len(data[0].columns)-3))\n",
        "    # track the total number of entries\n",
        "    si = 0\n",
        "    # standard scaler\n",
        "    scaler = StandardScaler()\n",
        "    for k, d in enumerate(data):\n",
        "        d_numerical = d.drop(['Date', 'symbol', 'Change'], axis=1)\n",
        "        dnp = d_numerical.values\n",
        "        dnp = sliding_window_view(dnp, window_shape=length, axis=0)\n",
        "        dnp_fin = np.moveaxis(dnp, 2,1)\n",
        "        # normalize each 30 day window independently\n",
        "        for i in range(dnp_fin.shape[0]):\n",
        "            # separate the price columns\n",
        "            d_price = dnp_fin[i,:,:4]\n",
        "            # the volume column\n",
        "            d_vol = dnp_fin[i,:,4]\n",
        "            d_ema = dnp_fin[i,:,5:]\n",
        "            # normalize the volume\n",
        "            d_vol = scaler.fit_transform(d_vol.reshape(-1,1))\n",
        "            d_vol = d_vol.reshape(-1)\n",
        "            d_price = scaler.fit_transform(d_price.reshape(-1,1))\n",
        "            d_price = d_price.reshape((-1,4))\n",
        "            data_swv[si,:,:4] = d_price\n",
        "            data_swv[si,:,4] = d_vol\n",
        "            data_swv[si,:,5:] = d_ema\n",
        "            si += 1\n",
        "    return data_swv, resp, dates, tickers"
      ]
    },
    {
      "cell_type": "markdown",
      "metadata": {
        "id": "tGjl81wyZLw0"
      },
      "source": [
        "### Getting the final data"
      ]
    },
    {
      "cell_type": "code",
      "execution_count": 10,
      "metadata": {
        "id": "TFiISkfPble4",
        "colab": {
          "base_uri": "https://localhost:8080/"
        },
        "outputId": "d1c5e75c-00bb-4cd6-e541-3465d22f5e2b"
      },
      "outputs": [
        {
          "output_type": "stream",
          "name": "stderr",
          "text": [
            "/tmp/ipython-input-9-1402510762.py:19: SettingWithCopyWarning: \n",
            "A value is trying to be set on a copy of a slice from a DataFrame.\n",
            "Try using .loc[row_indexer,col_indexer] = value instead\n",
            "\n",
            "See the caveats in the documentation: https://pandas.pydata.org/pandas-docs/stable/user_guide/indexing.html#returning-a-view-versus-a-copy\n",
            "  dc['Change'] = (dc['price_final'] - dc['price_initial']) / dc['price_initial']\n"
          ]
        }
      ],
      "source": [
        "# final chart data\n",
        "X, y, dates, tickers = train_daily(day_charts, num_day_candles, resp_length)"
      ]
    },
    {
      "cell_type": "code",
      "execution_count": 11,
      "metadata": {
        "id": "VNpW4JcESyp8",
        "colab": {
          "base_uri": "https://localhost:8080/"
        },
        "outputId": "fff7241c-7335-4216-8859-41c6a4b82992"
      },
      "outputs": [
        {
          "output_type": "stream",
          "name": "stdout",
          "text": [
            "(179770, 200, 5) (179770, 1) (179770, 1) (179770, 1)\n"
          ]
        }
      ],
      "source": [
        "# verify the shapes are correct\n",
        "print(X.shape, y.shape, dates.shape, tickers.shape)"
      ]
    },
    {
      "cell_type": "markdown",
      "metadata": {
        "id": "yizKvhTyKCiE"
      },
      "source": [
        "## Simulation Functions"
      ]
    },
    {
      "cell_type": "markdown",
      "metadata": {
        "id": "LvO6cbmhvc8O"
      },
      "source": [
        "### Model Architecture"
      ]
    },
    {
      "cell_type": "code",
      "execution_count": 12,
      "metadata": {
        "id": "f6ic9VIIEDl6"
      },
      "outputs": [],
      "source": [
        "def define_model(daily_candles, daily_features, num_tickers, regularization):\n",
        "    '''\n",
        "    Defines the neural network model that will be used to make predictions\n",
        "\n",
        "    Params:\n",
        "        1. daily_candles: number of daily candles in each observation\n",
        "        2. daily_features: number of features per candle (includes EMAs)\n",
        "        3. num_tickers: number of tickers in the data set\n",
        "        4. regularization: lambda value for regularization\n",
        "    '''\n",
        "\n",
        "    # input layer\n",
        "    day_input = Input(shape=(daily_candles, daily_features), name='Daily Charts')\n",
        "    # LSTM layers\n",
        "    lo1 = LSTM(units=64,\n",
        "               return_sequences=True,\n",
        "               kernel_regularizer=l2(regularization),\n",
        "               recurrent_regularizer=l2(regularization)\n",
        "               )(day_input)\n",
        "    ls1 = LSTM(units=32,\n",
        "              return_sequences=False,\n",
        "              kernel_regularizer=l2(regularization),\n",
        "              recurrent_regularizer=l2(regularization)\n",
        "              )(lo1)\n",
        "    # hidden layers\n",
        "    initializer = HeNormal()\n",
        "    hidden1 = Dense(units=64,\n",
        "                    kernel_initializer=initializer,\n",
        "                    kernel_regularizer=l2(regularization),\n",
        "                    activation='leaky_relu')(ls1)\n",
        "    hidden2 = Dense(units=32,\n",
        "                    kernel_initializer=initializer,\n",
        "                    kernel_regularizer=l2(regularization),\n",
        "                    activation='leaky_relu')(hidden1)\n",
        "    # output layer\n",
        "    output = Dense(1,name='Output')(hidden2)\n",
        "    # define the model & compile\n",
        "    model = Model(inputs=day_input, outputs=output)\n",
        "    model.compile(optimizer='adam', loss='mse', metrics=['mse'])\n",
        "    return model"
      ]
    },
    {
      "cell_type": "markdown",
      "metadata": {
        "id": "tqxS6qGWOJHu"
      },
      "source": [
        "### Function to get market return"
      ]
    },
    {
      "cell_type": "code",
      "execution_count": 13,
      "metadata": {
        "id": "mbAUnyWQ5zpe"
      },
      "outputs": [],
      "source": [
        "def get_risk_free(rfa, resp_length, di, df):\n",
        "    '''\n",
        "    Calculates a risk-free rate based on either a defined risk-free rate or\n",
        "    based on a specified asset\n",
        "\n",
        "    Params:\n",
        "        1. rfa: if str, then calculate the average return of the asset over the\n",
        "                specified holding period during the training period\n",
        "        2. resp_length: the holding period for each trade\n",
        "        3. di: the start date of the training data\n",
        "        4. df: the end date of the training data\n",
        "    '''\n",
        "\n",
        "    # if risk_free_asset is an asset rather than a constant value\n",
        "    if isinstance(rfa, str):\n",
        "        # download the chart\n",
        "        rf = yf.download(rfa, start=di, end=df)\n",
        "        rf.columns = rf.columns.droplevel(1)\n",
        "        # calculate the average gain over each resp_length period\n",
        "        rf['shifted'] = rf['Open'].shift(-resp_length)\n",
        "        rf['return'] = (rf['shifted'] - rf['Open']) / rf['Open']\n",
        "        rf = rf[rf.index.date <= df]\n",
        "        rf_return = rf['return'].mean()\n",
        "    else:\n",
        "        rf_return = rfa\n",
        "    print('\\n')\n",
        "    print(f'risk free return: {rf_return}')\n",
        "    return rf_return"
      ]
    },
    {
      "cell_type": "markdown",
      "metadata": {
        "id": "AlFWQwGlVYSB"
      },
      "source": [
        "### Simulation Function"
      ]
    },
    {
      "cell_type": "code",
      "execution_count": 14,
      "metadata": {
        "id": "PDN4xI4DKE1M"
      },
      "outputs": [],
      "source": [
        "def simulate_trades(dates, start_date, time_length, data_d,\n",
        "                    data_tick, resp, ticker_list, risk_free,\n",
        "                    rf, num_epochs, batches, reg, patience, sr_rating, l_s,\n",
        "                    start_nav = 1_000_000):\n",
        "    '''\n",
        "    Runs the full trade simulation\n",
        "\n",
        "    Params:\n",
        "        1. dates: np.array of all the dates for which we have data\n",
        "        2. start_date: the start date of the sim\n",
        "        3. time_length: the holding period for all trades\n",
        "        4. data_d: np.array of daily charts training data\n",
        "        5. data_tick: np.array of tickers corresponding to the charts\n",
        "        6. resp: np.array of the response variable data\n",
        "        7. ticker_list: list of all tickers in the training data set\n",
        "        8. risk_free: the risk free asset/return\n",
        "        9. rf: the frequency with which the model will be re-trained with updated data\n",
        "        10. num_epochs: number of epochs in training\n",
        "        11. batches: number of batches in training\n",
        "        12. reg: lambda value for regularization\n",
        "        13. patience: patience for early stopping in training\n",
        "        14. sr_rating: minimum rating needed to enter a trade\n",
        "        15. l_s: if True long/short strategy else long only\n",
        "        16. start_nav: starting net asset value for the simulation\n",
        "    '''\n",
        "\n",
        "    # get the trading days in order\n",
        "    trading_days = list(set(dates[dates >= start_date]))\n",
        "    trading_days.sort()\n",
        "    # starting nav and capital allocation\n",
        "    curr_nav = start_nav\n",
        "    prev_nav = start_nav\n",
        "    # early stopping\n",
        "    early_stopping = EarlyStopping(monitor='mse',\n",
        "            patience=patience, restore_best_weights=True,\n",
        "            verbose=1)\n",
        "    # MinMaxScaler\n",
        "    scaler = MinMaxScaler()\n",
        "    # ticker_specific_rmse\n",
        "    ticker_specific_rmse ={}\n",
        "    # if the df gets created\n",
        "    df_created = False\n",
        "    sim_report = pd.DataFrame()\n",
        "    # for retraining\n",
        "    train_min_day = None\n",
        "    for i, day in enumerate(trading_days):\n",
        "        # rebalance the port after each time step\n",
        "        if i % time_length != 0: continue\n",
        "        # mask the dates array\n",
        "        if not train_min_day: train_mask = (dates<day - datetime.timedelta((int(time_length*1.75)+time_length))) & (dates >= (day - datetime.timedelta(int(time_length*1.75)+(4*365)))) # within the past 4 years for training data\n",
        "        else: train_mask = (dates<day - datetime.timedelta((int(time_length*1.75)+time_length))) & (dates >= train_min_day) # only data which the model has not already seen\n",
        "        val_mask = (dates<day) & (dates >= (day - datetime.timedelta(time_length)))\n",
        "        test_mask = dates==day\n",
        "        train_mask = train_mask.squeeze()\n",
        "        test_mask = test_mask.squeeze()\n",
        "        val_mask = val_mask.squeeze()\n",
        "        # inference data\n",
        "        inf_d = data_d[test_mask]\n",
        "        inf_tick = data_tick[test_mask]\n",
        "        moves = resp[test_mask]\n",
        "        inf_tick = inf_tick.astype(np.int32)\n",
        "        # number of tickers\n",
        "        num_tickers = len(ticker_list)\n",
        "        if i % rf == 0:\n",
        "            train_min_day = day\n",
        "            print(f'max training day: {dates[train_mask].max()}, min training day: {dates[train_mask].min()}')\n",
        "            # training data\n",
        "            train_d = data_d[train_mask]\n",
        "            train_tick = data_tick[train_mask]\n",
        "            train_resp = resp[train_mask]\n",
        "            train_tick = train_tick.astype(np.int32)\n",
        "            # validation data\n",
        "            val_d = data_d[val_mask]\n",
        "            val_tick = data_tick[val_mask]\n",
        "            val_resp = resp[val_mask]\n",
        "            val_tick = val_tick.astype(np.int32)\n",
        "            # define the model\n",
        "            if i == 0:\n",
        "                model = define_model(train_d.shape[1], train_d.shape[-1],\n",
        "                                    num_tickers=num_tickers, regularization=reg)\n",
        "            model.fit(x=train_d,\n",
        "                      y=train_resp,\n",
        "                      validation_data=(val_d, val_resp),\n",
        "                      epochs=num_epochs, batch_size=batches,\n",
        "                      callbacks=early_stopping, verbose=1)\n",
        "            # get the ticker specific error rate\n",
        "            val_preds = model.predict(val_d)\n",
        "            full_mse = mse(val_resp.squeeze(), val_preds.squeeze())\n",
        "            full_rmse = np.sqrt(full_mse)\n",
        "            uni_tickers = np.unique(val_tick)\n",
        "            for ticker in uni_tickers:\n",
        "                ticker_mask = val_tick == ticker\n",
        "                ticker_mask = ticker_mask.squeeze()\n",
        "                ticker_train_preds = val_preds.squeeze()\n",
        "                ticker_train_moves  = val_resp.squeeze()\n",
        "                ticker_train_preds = ticker_train_preds[ticker_mask]\n",
        "                ticker_train_moves = ticker_train_moves[ticker_mask]\n",
        "                # get rmse\n",
        "                ticker_train_mse = mse(ticker_train_moves, ticker_train_preds)\n",
        "                ticker_train_rmse = np.sqrt(ticker_train_mse)\n",
        "                ticker_specific_rmse[ticker] = ticker_train_rmse\n",
        "            # print to check\n",
        "            print(ticker_specific_rmse)\n",
        "            # get the risk_free return\n",
        "            train_days = dates[train_mask]\n",
        "            rfr = get_risk_free(risk_free, resp_length, train_days.min(), train_days.max())\n",
        "            # print to ensure no leakage\n",
        "            print(train_days.min(), train_days.max())\n",
        "        # preds\n",
        "        print(day)\n",
        "        preds = model.predict(inf_d)\n",
        "        preds = preds.squeeze()\n",
        "        moves = moves.squeeze()\n",
        "        inf_tick = inf_tick.squeeze()\n",
        "        # divide them by the ticker specific risk\n",
        "        sharpe_scores = np.zeros(preds.shape[0])\n",
        "        specific_rmses =  np.zeros(preds.shape[0])\n",
        "        ticker_sds =  np.zeros(preds.shape[0])\n",
        "        for j, pos_score in enumerate(zip(inf_tick.squeeze(), preds)):\n",
        "            # get rmse for each position and divide the score by it\n",
        "            sd_risk = ticker_specific_rmse.get(pos_score[0], -1)\n",
        "            if sd_risk < 0:\n",
        "                ticker_sd = full_rmse\n",
        "                sharpe_score = (pos_score[1] - rfr) / ticker_sd\n",
        "                # if ticker was not in the training set based on the split use\n",
        "                # the overall training RMSE\n",
        "                specific_rmse = False\n",
        "            else:\n",
        "                ticker_sd = sd_risk\n",
        "                sharpe_score = (pos_score[1] - rfr) / ticker_sd\n",
        "                specific_rmse = True\n",
        "            sharpe_scores[j] = sharpe_score\n",
        "            ticker_sds[j] = ticker_sd\n",
        "            specific_rmses[j] = specific_rmse\n",
        "        # go long if the pred > 0 and sharpe_scores > 1\n",
        "        mask_pred = preds > 0\n",
        "        mask_sharpe = sharpe_scores > sr_rating\n",
        "        final_mask = mask_pred * mask_sharpe\n",
        "        # mask to get the long positions\n",
        "        long_moves = moves[final_mask]\n",
        "        long_ratings = sharpe_scores[final_mask]\n",
        "        # short side\n",
        "        mask_short_pred = preds < 0\n",
        "        if l_s: mask_short_sharpe = sharpe_scores < -sr_rating\n",
        "        else:  mask_short_sharpe = sharpe_scores < -999999999\n",
        "        final_short_mask = mask_short_pred * mask_short_sharpe\n",
        "        # mask to get the short positions\n",
        "        short_moves = moves[final_short_mask]\n",
        "        short_ratings = sharpe_scores[final_short_mask]\n",
        "        # if there are no trades\n",
        "        if long_ratings.shape[0] == short_ratings.shape[0] == 0: continue\n",
        "        # outputs to the df\n",
        "        final_ratings = np.concatenate([long_ratings, short_ratings])\n",
        "        final_moves = np.concatenate([long_moves, short_moves])\n",
        "        temp = pd.DataFrame()\n",
        "        temp['Rating'] = np.round(final_ratings, 4)\n",
        "        temp['Gain'] = np.round(final_moves, 4)\n",
        "        if not df_created:\n",
        "            sim_report = temp\n",
        "            df_created = True\n",
        "        else: sim_report = pd.concat([sim_report, temp], axis=0)\n",
        "    return sim_report"
      ]
    },
    {
      "cell_type": "markdown",
      "metadata": {
        "id": "93KHhZu8pNup"
      },
      "source": [
        "### Hidden parameters"
      ]
    },
    {
      "cell_type": "code",
      "execution_count": 15,
      "metadata": {
        "id": "YfC9DaERpTgv"
      },
      "outputs": [],
      "source": [
        "# keep track of the sims\n",
        "sim_number = 1\n",
        "curr_date = datetime.date.today()"
      ]
    },
    {
      "cell_type": "code",
      "execution_count": 16,
      "metadata": {
        "id": "TKVeMO9apWWJ"
      },
      "outputs": [],
      "source": [
        "# number of tickers for the embedding layer\n",
        "num_tickers = len(ai90)"
      ]
    },
    {
      "cell_type": "code",
      "execution_count": 17,
      "metadata": {
        "id": "g-8ny0q_PZH0"
      },
      "outputs": [],
      "source": [
        "# array to store sim results\n",
        "PLs = [0]*num_sims"
      ]
    },
    {
      "cell_type": "markdown",
      "metadata": {
        "id": "N01TCZbTDpTQ"
      },
      "source": [
        "# Simulations"
      ]
    },
    {
      "cell_type": "markdown",
      "metadata": {
        "id": "0edsfmW90IZR"
      },
      "source": [
        "### Run the simulation"
      ]
    },
    {
      "cell_type": "code",
      "execution_count": 18,
      "metadata": {
        "id": "HqEBcnBk0Qn0",
        "colab": {
          "base_uri": "https://localhost:8080/",
          "height": 1000
        },
        "outputId": "b473f93e-2f46-4532-b8dd-318caf8b1029"
      },
      "outputs": [
        {
          "output_type": "stream",
          "name": "stdout",
          "text": [
            "max training day: 2022-09-01, min training day: 2018-10-18\n",
            "Epoch 1/200\n",
            "\u001b[1m1419/1419\u001b[0m \u001b[32m━━━━━━━━━━━━━━━━━━━━\u001b[0m\u001b[37m\u001b[0m \u001b[1m26s\u001b[0m 16ms/step - loss: 0.0471 - mse: 0.0332 - val_loss: 0.0339 - val_mse: 0.0286\n",
            "Epoch 2/200\n",
            "\u001b[1m1419/1419\u001b[0m \u001b[32m━━━━━━━━━━━━━━━━━━━━\u001b[0m\u001b[37m\u001b[0m \u001b[1m22s\u001b[0m 15ms/step - loss: 0.0350 - mse: 0.0309 - val_loss: 0.0292 - val_mse: 0.0273\n",
            "Epoch 3/200\n",
            "\u001b[1m1419/1419\u001b[0m \u001b[32m━━━━━━━━━━━━━━━━━━━━\u001b[0m\u001b[37m\u001b[0m \u001b[1m22s\u001b[0m 15ms/step - loss: 0.0324 - mse: 0.0308 - val_loss: 0.0273 - val_mse: 0.0263\n",
            "Epoch 4/200\n",
            "\u001b[1m1419/1419\u001b[0m \u001b[32m━━━━━━━━━━━━━━━━━━━━\u001b[0m\u001b[37m\u001b[0m \u001b[1m22s\u001b[0m 15ms/step - loss: 0.0320 - mse: 0.0312 - val_loss: 0.0278 - val_mse: 0.0271\n",
            "Epoch 5/200\n",
            "\u001b[1m1419/1419\u001b[0m \u001b[32m━━━━━━━━━━━━━━━━━━━━\u001b[0m\u001b[37m\u001b[0m \u001b[1m22s\u001b[0m 15ms/step - loss: 0.0303 - mse: 0.0297 - val_loss: 0.0292 - val_mse: 0.0285\n",
            "Epoch 6/200\n",
            "\u001b[1m1419/1419\u001b[0m \u001b[32m━━━━━━━━━━━━━━━━━━━━\u001b[0m\u001b[37m\u001b[0m \u001b[1m22s\u001b[0m 15ms/step - loss: 0.0305 - mse: 0.0298 - val_loss: 0.0279 - val_mse: 0.0272\n",
            "Epoch 7/200\n",
            "\u001b[1m1419/1419\u001b[0m \u001b[32m━━━━━━━━━━━━━━━━━━━━\u001b[0m\u001b[37m\u001b[0m \u001b[1m22s\u001b[0m 15ms/step - loss: 0.0298 - mse: 0.0291 - val_loss: 0.0309 - val_mse: 0.0301\n",
            "Epoch 8/200\n",
            "\u001b[1m1419/1419\u001b[0m \u001b[32m━━━━━━━━━━━━━━━━━━━━\u001b[0m\u001b[37m\u001b[0m \u001b[1m22s\u001b[0m 15ms/step - loss: 0.0296 - mse: 0.0288 - val_loss: 0.0286 - val_mse: 0.0278\n",
            "Epoch 9/200\n",
            "\u001b[1m1419/1419\u001b[0m \u001b[32m━━━━━━━━━━━━━━━━━━━━\u001b[0m\u001b[37m\u001b[0m \u001b[1m22s\u001b[0m 15ms/step - loss: 0.0300 - mse: 0.0292 - val_loss: 0.0274 - val_mse: 0.0265\n",
            "Epoch 10/200\n",
            "\u001b[1m1419/1419\u001b[0m \u001b[32m━━━━━━━━━━━━━━━━━━━━\u001b[0m\u001b[37m\u001b[0m \u001b[1m22s\u001b[0m 15ms/step - loss: 0.0291 - mse: 0.0283 - val_loss: 0.0314 - val_mse: 0.0304\n",
            "Epoch 11/200\n",
            "\u001b[1m1419/1419\u001b[0m \u001b[32m━━━━━━━━━━━━━━━━━━━━\u001b[0m\u001b[37m\u001b[0m \u001b[1m22s\u001b[0m 15ms/step - loss: 0.0285 - mse: 0.0275 - val_loss: 0.0280 - val_mse: 0.0269\n",
            "Epoch 12/200\n",
            "\u001b[1m1419/1419\u001b[0m \u001b[32m━━━━━━━━━━━━━━━━━━━━\u001b[0m\u001b[37m\u001b[0m \u001b[1m22s\u001b[0m 15ms/step - loss: 0.0294 - mse: 0.0283 - val_loss: 0.0301 - val_mse: 0.0290\n",
            "Epoch 13/200\n",
            "\u001b[1m1419/1419\u001b[0m \u001b[32m━━━━━━━━━━━━━━━━━━━━\u001b[0m\u001b[37m\u001b[0m \u001b[1m22s\u001b[0m 15ms/step - loss: 0.0292 - mse: 0.0281 - val_loss: 0.0305 - val_mse: 0.0293\n",
            "Epoch 14/200\n",
            "\u001b[1m1419/1419\u001b[0m \u001b[32m━━━━━━━━━━━━━━━━━━━━\u001b[0m\u001b[37m\u001b[0m \u001b[1m22s\u001b[0m 15ms/step - loss: 0.0279 - mse: 0.0267 - val_loss: 0.0293 - val_mse: 0.0280\n",
            "Epoch 15/200\n",
            "\u001b[1m1419/1419\u001b[0m \u001b[32m━━━━━━━━━━━━━━━━━━━━\u001b[0m\u001b[37m\u001b[0m \u001b[1m22s\u001b[0m 15ms/step - loss: 0.0280 - mse: 0.0268 - val_loss: 0.0332 - val_mse: 0.0319\n",
            "Epoch 16/200\n",
            "\u001b[1m1419/1419\u001b[0m \u001b[32m━━━━━━━━━━━━━━━━━━━━\u001b[0m\u001b[37m\u001b[0m \u001b[1m22s\u001b[0m 15ms/step - loss: 0.0288 - mse: 0.0274 - val_loss: 0.0260 - val_mse: 0.0245\n",
            "Epoch 17/200\n",
            "\u001b[1m1419/1419\u001b[0m \u001b[32m━━━━━━━━━━━━━━━━━━━━\u001b[0m\u001b[37m\u001b[0m \u001b[1m22s\u001b[0m 15ms/step - loss: 0.0303 - mse: 0.0288 - val_loss: 0.0296 - val_mse: 0.0281\n",
            "Epoch 18/200\n",
            "\u001b[1m1419/1419\u001b[0m \u001b[32m━━━━━━━━━━━━━━━━━━━━\u001b[0m\u001b[37m\u001b[0m \u001b[1m22s\u001b[0m 15ms/step - loss: 0.0280 - mse: 0.0266 - val_loss: 0.0296 - val_mse: 0.0282\n",
            "Epoch 19/200\n",
            "\u001b[1m1419/1419\u001b[0m \u001b[32m━━━━━━━━━━━━━━━━━━━━\u001b[0m\u001b[37m\u001b[0m \u001b[1m22s\u001b[0m 15ms/step - loss: 0.0277 - mse: 0.0262 - val_loss: 0.0308 - val_mse: 0.0293\n",
            "Epoch 20/200\n",
            "\u001b[1m1419/1419\u001b[0m \u001b[32m━━━━━━━━━━━━━━━━━━━━\u001b[0m\u001b[37m\u001b[0m \u001b[1m22s\u001b[0m 15ms/step - loss: 0.0298 - mse: 0.0282 - val_loss: 0.0266 - val_mse: 0.0249\n",
            "Epoch 21/200\n",
            "\u001b[1m1419/1419\u001b[0m \u001b[32m━━━━━━━━━━━━━━━━━━━━\u001b[0m\u001b[37m\u001b[0m \u001b[1m22s\u001b[0m 15ms/step - loss: 0.0279 - mse: 0.0262 - val_loss: 0.0263 - val_mse: 0.0246\n",
            "Epoch 22/200\n",
            "\u001b[1m1419/1419\u001b[0m \u001b[32m━━━━━━━━━━━━━━━━━━━━\u001b[0m\u001b[37m\u001b[0m \u001b[1m22s\u001b[0m 15ms/step - loss: 0.0278 - mse: 0.0260 - val_loss: 0.0301 - val_mse: 0.0284\n",
            "Epoch 23/200\n",
            "\u001b[1m1419/1419\u001b[0m \u001b[32m━━━━━━━━━━━━━━━━━━━━\u001b[0m\u001b[37m\u001b[0m \u001b[1m22s\u001b[0m 15ms/step - loss: 0.0267 - mse: 0.0250 - val_loss: 0.0302 - val_mse: 0.0285\n",
            "Epoch 24/200\n",
            "\u001b[1m1419/1419\u001b[0m \u001b[32m━━━━━━━━━━━━━━━━━━━━\u001b[0m\u001b[37m\u001b[0m \u001b[1m22s\u001b[0m 15ms/step - loss: 0.0265 - mse: 0.0248 - val_loss: 0.0313 - val_mse: 0.0296\n",
            "Epoch 25/200\n",
            "\u001b[1m1419/1419\u001b[0m \u001b[32m━━━━━━━━━━━━━━━━━━━━\u001b[0m\u001b[37m\u001b[0m \u001b[1m22s\u001b[0m 15ms/step - loss: 0.0258 - mse: 0.0240 - val_loss: 0.0260 - val_mse: 0.0242\n",
            "Epoch 26/200\n",
            "\u001b[1m1419/1419\u001b[0m \u001b[32m━━━━━━━━━━━━━━━━━━━━\u001b[0m\u001b[37m\u001b[0m \u001b[1m22s\u001b[0m 15ms/step - loss: 0.0261 - mse: 0.0242 - val_loss: 0.0293 - val_mse: 0.0274\n",
            "Epoch 27/200\n",
            "\u001b[1m1419/1419\u001b[0m \u001b[32m━━━━━━━━━━━━━━━━━━━━\u001b[0m\u001b[37m\u001b[0m \u001b[1m22s\u001b[0m 15ms/step - loss: 0.0256 - mse: 0.0237 - val_loss: 0.0294 - val_mse: 0.0274\n",
            "Epoch 28/200\n",
            "\u001b[1m1419/1419\u001b[0m \u001b[32m━━━━━━━━━━━━━━━━━━━━\u001b[0m\u001b[37m\u001b[0m \u001b[1m22s\u001b[0m 15ms/step - loss: 0.0244 - mse: 0.0225 - val_loss: 0.0286 - val_mse: 0.0266\n",
            "Epoch 29/200\n",
            "\u001b[1m1419/1419\u001b[0m \u001b[32m━━━━━━━━━━━━━━━━━━━━\u001b[0m\u001b[37m\u001b[0m \u001b[1m22s\u001b[0m 15ms/step - loss: 0.0256 - mse: 0.0236 - val_loss: 0.0332 - val_mse: 0.0312\n",
            "Epoch 30/200\n",
            "\u001b[1m1419/1419\u001b[0m \u001b[32m━━━━━━━━━━━━━━━━━━━━\u001b[0m\u001b[37m\u001b[0m \u001b[1m22s\u001b[0m 15ms/step - loss: 0.0261 - mse: 0.0240 - val_loss: 0.0317 - val_mse: 0.0294\n",
            "Epoch 31/200\n",
            "\u001b[1m1419/1419\u001b[0m \u001b[32m━━━━━━━━━━━━━━━━━━━━\u001b[0m\u001b[37m\u001b[0m \u001b[1m22s\u001b[0m 15ms/step - loss: 0.0259 - mse: 0.0237 - val_loss: 0.0291 - val_mse: 0.0270\n",
            "Epoch 32/200\n",
            "\u001b[1m1419/1419\u001b[0m \u001b[32m━━━━━━━━━━━━━━━━━━━━\u001b[0m\u001b[37m\u001b[0m \u001b[1m22s\u001b[0m 15ms/step - loss: 0.0246 - mse: 0.0224 - val_loss: 0.0282 - val_mse: 0.0260\n",
            "Epoch 33/200\n",
            "\u001b[1m1419/1419\u001b[0m \u001b[32m━━━━━━━━━━━━━━━━━━━━\u001b[0m\u001b[37m\u001b[0m \u001b[1m22s\u001b[0m 15ms/step - loss: 0.0240 - mse: 0.0218 - val_loss: 0.0302 - val_mse: 0.0280\n",
            "Epoch 34/200\n",
            "\u001b[1m1419/1419\u001b[0m \u001b[32m━━━━━━━━━━━━━━━━━━━━\u001b[0m\u001b[37m\u001b[0m \u001b[1m22s\u001b[0m 15ms/step - loss: 0.0229 - mse: 0.0206 - val_loss: 0.0307 - val_mse: 0.0284\n",
            "Epoch 35/200\n",
            "\u001b[1m1419/1419\u001b[0m \u001b[32m━━━━━━━━━━━━━━━━━━━━\u001b[0m\u001b[37m\u001b[0m \u001b[1m22s\u001b[0m 15ms/step - loss: 0.0234 - mse: 0.0211 - val_loss: 0.0348 - val_mse: 0.0324\n",
            "Epoch 36/200\n",
            "\u001b[1m1419/1419\u001b[0m \u001b[32m━━━━━━━━━━━━━━━━━━━━\u001b[0m\u001b[37m\u001b[0m \u001b[1m22s\u001b[0m 15ms/step - loss: 0.0246 - mse: 0.0221 - val_loss: 0.0291 - val_mse: 0.0267\n",
            "Epoch 37/200\n",
            "\u001b[1m1419/1419\u001b[0m \u001b[32m━━━━━━━━━━━━━━━━━━━━\u001b[0m\u001b[37m\u001b[0m \u001b[1m22s\u001b[0m 15ms/step - loss: 0.0223 - mse: 0.0198 - val_loss: 0.0282 - val_mse: 0.0256\n",
            "Epoch 38/200\n",
            "\u001b[1m1419/1419\u001b[0m \u001b[32m━━━━━━━━━━━━━━━━━━━━\u001b[0m\u001b[37m\u001b[0m \u001b[1m22s\u001b[0m 15ms/step - loss: 0.0229 - mse: 0.0204 - val_loss: 0.0361 - val_mse: 0.0336\n",
            "Epoch 39/200\n",
            "\u001b[1m1419/1419\u001b[0m \u001b[32m━━━━━━━━━━━━━━━━━━━━\u001b[0m\u001b[37m\u001b[0m \u001b[1m22s\u001b[0m 15ms/step - loss: 0.0216 - mse: 0.0191 - val_loss: 0.0329 - val_mse: 0.0304\n",
            "Epoch 40/200\n",
            "\u001b[1m1419/1419\u001b[0m \u001b[32m━━━━━━━━━━━━━━━━━━━━\u001b[0m\u001b[37m\u001b[0m \u001b[1m22s\u001b[0m 15ms/step - loss: 0.0214 - mse: 0.0189 - val_loss: 0.0356 - val_mse: 0.0331\n",
            "Epoch 41/200\n",
            "\u001b[1m1419/1419\u001b[0m \u001b[32m━━━━━━━━━━━━━━━━━━━━\u001b[0m\u001b[37m\u001b[0m \u001b[1m22s\u001b[0m 15ms/step - loss: 0.0216 - mse: 0.0190 - val_loss: 0.0324 - val_mse: 0.0297\n",
            "Epoch 42/200\n",
            "\u001b[1m1419/1419\u001b[0m \u001b[32m━━━━━━━━━━━━━━━━━━━━\u001b[0m\u001b[37m\u001b[0m \u001b[1m22s\u001b[0m 15ms/step - loss: 0.0212 - mse: 0.0185 - val_loss: 0.0323 - val_mse: 0.0297\n",
            "Epoch 43/200\n",
            "\u001b[1m1419/1419\u001b[0m \u001b[32m━━━━━━━━━━━━━━━━━━━━\u001b[0m\u001b[37m\u001b[0m \u001b[1m22s\u001b[0m 15ms/step - loss: 0.0213 - mse: 0.0187 - val_loss: 0.0327 - val_mse: 0.0300\n",
            "Epoch 44/200\n",
            "\u001b[1m1419/1419\u001b[0m \u001b[32m━━━━━━━━━━━━━━━━━━━━\u001b[0m\u001b[37m\u001b[0m \u001b[1m22s\u001b[0m 15ms/step - loss: 0.0211 - mse: 0.0184 - val_loss: 0.0359 - val_mse: 0.0332\n",
            "Epoch 45/200\n",
            "\u001b[1m1419/1419\u001b[0m \u001b[32m━━━━━━━━━━━━━━━━━━━━\u001b[0m\u001b[37m\u001b[0m \u001b[1m22s\u001b[0m 15ms/step - loss: 0.0205 - mse: 0.0178 - val_loss: 0.0374 - val_mse: 0.0346\n",
            "Epoch 46/200\n",
            "\u001b[1m1419/1419\u001b[0m \u001b[32m━━━━━━━━━━━━━━━━━━━━\u001b[0m\u001b[37m\u001b[0m \u001b[1m22s\u001b[0m 15ms/step - loss: 0.0205 - mse: 0.0177 - val_loss: 0.0368 - val_mse: 0.0340\n",
            "Epoch 47/200\n",
            "\u001b[1m1419/1419\u001b[0m \u001b[32m━━━━━━━━━━━━━━━━━━━━\u001b[0m\u001b[37m\u001b[0m \u001b[1m22s\u001b[0m 15ms/step - loss: 0.0207 - mse: 0.0179 - val_loss: 0.0389 - val_mse: 0.0360\n",
            "Epoch 48/200\n",
            "\u001b[1m1419/1419\u001b[0m \u001b[32m━━━━━━━━━━━━━━━━━━━━\u001b[0m\u001b[37m\u001b[0m \u001b[1m22s\u001b[0m 15ms/step - loss: 0.0204 - mse: 0.0175 - val_loss: 0.0375 - val_mse: 0.0346\n",
            "Epoch 49/200\n",
            "\u001b[1m1419/1419\u001b[0m \u001b[32m━━━━━━━━━━━━━━━━━━━━\u001b[0m\u001b[37m\u001b[0m \u001b[1m22s\u001b[0m 15ms/step - loss: 0.0200 - mse: 0.0171 - val_loss: 0.0349 - val_mse: 0.0320\n",
            "Epoch 50/200\n",
            "\u001b[1m1419/1419\u001b[0m \u001b[32m━━━━━━━━━━━━━━━━━━━━\u001b[0m\u001b[37m\u001b[0m \u001b[1m22s\u001b[0m 15ms/step - loss: 0.0216 - mse: 0.0187 - val_loss: 0.0336 - val_mse: 0.0306\n",
            "Epoch 51/200\n",
            "\u001b[1m1419/1419\u001b[0m \u001b[32m━━━━━━━━━━━━━━━━━━━━\u001b[0m\u001b[37m\u001b[0m \u001b[1m22s\u001b[0m 15ms/step - loss: 0.0202 - mse: 0.0173 - val_loss: 0.0345 - val_mse: 0.0315\n",
            "Epoch 52/200\n",
            "\u001b[1m1419/1419\u001b[0m \u001b[32m━━━━━━━━━━━━━━━━━━━━\u001b[0m\u001b[37m\u001b[0m \u001b[1m22s\u001b[0m 15ms/step - loss: 0.0210 - mse: 0.0181 - val_loss: 0.0364 - val_mse: 0.0334\n",
            "Epoch 53/200\n",
            "\u001b[1m1419/1419\u001b[0m \u001b[32m━━━━━━━━━━━━━━━━━━━━\u001b[0m\u001b[37m\u001b[0m \u001b[1m22s\u001b[0m 15ms/step - loss: 0.0203 - mse: 0.0173 - val_loss: 0.0315 - val_mse: 0.0283\n",
            "Epoch 54/200\n",
            "\u001b[1m1419/1419\u001b[0m \u001b[32m━━━━━━━━━━━━━━━━━━━━\u001b[0m\u001b[37m\u001b[0m \u001b[1m22s\u001b[0m 15ms/step - loss: 0.0214 - mse: 0.0183 - val_loss: 0.0380 - val_mse: 0.0349\n",
            "Epoch 55/200\n",
            "\u001b[1m1419/1419\u001b[0m \u001b[32m━━━━━━━━━━━━━━━━━━━━\u001b[0m\u001b[37m\u001b[0m \u001b[1m22s\u001b[0m 15ms/step - loss: 0.0193 - mse: 0.0163 - val_loss: 0.0387 - val_mse: 0.0357\n",
            "Epoch 56/200\n",
            "\u001b[1m1419/1419\u001b[0m \u001b[32m━━━━━━━━━━━━━━━━━━━━\u001b[0m\u001b[37m\u001b[0m \u001b[1m22s\u001b[0m 15ms/step - loss: 0.0189 - mse: 0.0159 - val_loss: 0.0374 - val_mse: 0.0343\n",
            "Epoch 57/200\n",
            "\u001b[1m1419/1419\u001b[0m \u001b[32m━━━━━━━━━━━━━━━━━━━━\u001b[0m\u001b[37m\u001b[0m \u001b[1m22s\u001b[0m 15ms/step - loss: 0.0195 - mse: 0.0165 - val_loss: 0.0342 - val_mse: 0.0312\n",
            "Epoch 58/200\n",
            "\u001b[1m1419/1419\u001b[0m \u001b[32m━━━━━━━━━━━━━━━━━━━━\u001b[0m\u001b[37m\u001b[0m \u001b[1m22s\u001b[0m 15ms/step - loss: 0.0191 - mse: 0.0160 - val_loss: 0.0344 - val_mse: 0.0313\n",
            "Epoch 59/200\n",
            "\u001b[1m1419/1419\u001b[0m \u001b[32m━━━━━━━━━━━━━━━━━━━━\u001b[0m\u001b[37m\u001b[0m \u001b[1m22s\u001b[0m 15ms/step - loss: 0.0190 - mse: 0.0159 - val_loss: 0.0350 - val_mse: 0.0319\n",
            "Epoch 60/200\n",
            "\u001b[1m1419/1419\u001b[0m \u001b[32m━━━━━━━━━━━━━━━━━━━━\u001b[0m\u001b[37m\u001b[0m \u001b[1m22s\u001b[0m 15ms/step - loss: 0.0194 - mse: 0.0164 - val_loss: 0.0380 - val_mse: 0.0350\n",
            "Epoch 61/200\n",
            "\u001b[1m1419/1419\u001b[0m \u001b[32m━━━━━━━━━━━━━━━━━━━━\u001b[0m\u001b[37m\u001b[0m \u001b[1m22s\u001b[0m 15ms/step - loss: 0.0191 - mse: 0.0161 - val_loss: 0.0412 - val_mse: 0.0381\n",
            "Epoch 62/200\n",
            "\u001b[1m1419/1419\u001b[0m \u001b[32m━━━━━━━━━━━━━━━━━━━━\u001b[0m\u001b[37m\u001b[0m \u001b[1m22s\u001b[0m 15ms/step - loss: 0.0190 - mse: 0.0159 - val_loss: 0.0346 - val_mse: 0.0315\n",
            "Epoch 63/200\n",
            "\u001b[1m1419/1419\u001b[0m \u001b[32m━━━━━━━━━━━━━━━━━━━━\u001b[0m\u001b[37m\u001b[0m \u001b[1m22s\u001b[0m 15ms/step - loss: 0.0195 - mse: 0.0164 - val_loss: 0.0387 - val_mse: 0.0356\n",
            "Epoch 64/200\n",
            "\u001b[1m1419/1419\u001b[0m \u001b[32m━━━━━━━━━━━━━━━━━━━━\u001b[0m\u001b[37m\u001b[0m \u001b[1m22s\u001b[0m 15ms/step - loss: 0.0189 - mse: 0.0157 - val_loss: 0.0402 - val_mse: 0.0371\n",
            "Epoch 65/200\n",
            "\u001b[1m1419/1419\u001b[0m \u001b[32m━━━━━━━━━━━━━━━━━━━━\u001b[0m\u001b[37m\u001b[0m \u001b[1m22s\u001b[0m 15ms/step - loss: 0.0189 - mse: 0.0158 - val_loss: 0.0352 - val_mse: 0.0321\n",
            "Epoch 66/200\n",
            "\u001b[1m1419/1419\u001b[0m \u001b[32m━━━━━━━━━━━━━━━━━━━━\u001b[0m\u001b[37m\u001b[0m \u001b[1m22s\u001b[0m 15ms/step - loss: 0.0190 - mse: 0.0158 - val_loss: 0.0368 - val_mse: 0.0336\n",
            "Epoch 67/200\n",
            "\u001b[1m1419/1419\u001b[0m \u001b[32m━━━━━━━━━━━━━━━━━━━━\u001b[0m\u001b[37m\u001b[0m \u001b[1m22s\u001b[0m 15ms/step - loss: 0.0196 - mse: 0.0165 - val_loss: 0.0344 - val_mse: 0.0313\n",
            "Epoch 68/200\n",
            "\u001b[1m1419/1419\u001b[0m \u001b[32m━━━━━━━━━━━━━━━━━━━━\u001b[0m\u001b[37m\u001b[0m \u001b[1m22s\u001b[0m 15ms/step - loss: 0.0199 - mse: 0.0167 - val_loss: 0.0362 - val_mse: 0.0331\n",
            "Epoch 69/200\n",
            "\u001b[1m1419/1419\u001b[0m \u001b[32m━━━━━━━━━━━━━━━━━━━━\u001b[0m\u001b[37m\u001b[0m \u001b[1m22s\u001b[0m 15ms/step - loss: 0.0186 - mse: 0.0155 - val_loss: 0.0393 - val_mse: 0.0362\n",
            "Epoch 70/200\n",
            "\u001b[1m1419/1419\u001b[0m \u001b[32m━━━━━━━━━━━━━━━━━━━━\u001b[0m\u001b[37m\u001b[0m \u001b[1m22s\u001b[0m 15ms/step - loss: 0.0183 - mse: 0.0151 - val_loss: 0.0388 - val_mse: 0.0356\n",
            "Epoch 71/200\n",
            "\u001b[1m1419/1419\u001b[0m \u001b[32m━━━━━━━━━━━━━━━━━━━━\u001b[0m\u001b[37m\u001b[0m \u001b[1m22s\u001b[0m 15ms/step - loss: 0.0183 - mse: 0.0151 - val_loss: 0.0449 - val_mse: 0.0417\n",
            "Epoch 72/200\n",
            "\u001b[1m1419/1419\u001b[0m \u001b[32m━━━━━━━━━━━━━━━━━━━━\u001b[0m\u001b[37m\u001b[0m \u001b[1m22s\u001b[0m 15ms/step - loss: 0.0182 - mse: 0.0150 - val_loss: 0.0386 - val_mse: 0.0353\n",
            "Epoch 73/200\n",
            "\u001b[1m1419/1419\u001b[0m \u001b[32m━━━━━━━━━━━━━━━━━━━━\u001b[0m\u001b[37m\u001b[0m \u001b[1m22s\u001b[0m 15ms/step - loss: 0.0183 - mse: 0.0151 - val_loss: 0.0414 - val_mse: 0.0382\n",
            "Epoch 74/200\n",
            "\u001b[1m1419/1419\u001b[0m \u001b[32m━━━━━━━━━━━━━━━━━━━━\u001b[0m\u001b[37m\u001b[0m \u001b[1m22s\u001b[0m 15ms/step - loss: 0.0192 - mse: 0.0160 - val_loss: 0.0400 - val_mse: 0.0367\n",
            "Epoch 75/200\n",
            "\u001b[1m1419/1419\u001b[0m \u001b[32m━━━━━━━━━━━━━━━━━━━━\u001b[0m\u001b[37m\u001b[0m \u001b[1m22s\u001b[0m 15ms/step - loss: 0.0180 - mse: 0.0148 - val_loss: 0.0351 - val_mse: 0.0319\n",
            "Epoch 76/200\n",
            "\u001b[1m1419/1419\u001b[0m \u001b[32m━━━━━━━━━━━━━━━━━━━━\u001b[0m\u001b[37m\u001b[0m \u001b[1m22s\u001b[0m 15ms/step - loss: 0.0188 - mse: 0.0155 - val_loss: 0.0344 - val_mse: 0.0312\n",
            "Epoch 77/200\n",
            "\u001b[1m1419/1419\u001b[0m \u001b[32m━━━━━━━━━━━━━━━━━━━━\u001b[0m\u001b[37m\u001b[0m \u001b[1m22s\u001b[0m 15ms/step - loss: 0.0184 - mse: 0.0152 - val_loss: 0.0378 - val_mse: 0.0346\n",
            "Epoch 78/200\n",
            "\u001b[1m1419/1419\u001b[0m \u001b[32m━━━━━━━━━━━━━━━━━━━━\u001b[0m\u001b[37m\u001b[0m \u001b[1m22s\u001b[0m 15ms/step - loss: 0.0178 - mse: 0.0145 - val_loss: 0.0425 - val_mse: 0.0393\n",
            "Epoch 79/200\n",
            "\u001b[1m1419/1419\u001b[0m \u001b[32m━━━━━━━━━━━━━━━━━━━━\u001b[0m\u001b[37m\u001b[0m \u001b[1m22s\u001b[0m 15ms/step - loss: 0.0179 - mse: 0.0147 - val_loss: 0.0475 - val_mse: 0.0442\n",
            "Epoch 80/200\n",
            "\u001b[1m1419/1419\u001b[0m \u001b[32m━━━━━━━━━━━━━━━━━━━━\u001b[0m\u001b[37m\u001b[0m \u001b[1m22s\u001b[0m 15ms/step - loss: 0.0178 - mse: 0.0146 - val_loss: 0.0386 - val_mse: 0.0353\n",
            "Epoch 81/200\n",
            "\u001b[1m1419/1419\u001b[0m \u001b[32m━━━━━━━━━━━━━━━━━━━━\u001b[0m\u001b[37m\u001b[0m \u001b[1m22s\u001b[0m 15ms/step - loss: 0.0181 - mse: 0.0148 - val_loss: 0.0373 - val_mse: 0.0341\n",
            "Epoch 82/200\n",
            "\u001b[1m1419/1419\u001b[0m \u001b[32m━━━━━━━━━━━━━━━━━━━━\u001b[0m\u001b[37m\u001b[0m \u001b[1m22s\u001b[0m 15ms/step - loss: 0.0177 - mse: 0.0144 - val_loss: 0.0375 - val_mse: 0.0342\n",
            "Epoch 83/200\n",
            "\u001b[1m1419/1419\u001b[0m \u001b[32m━━━━━━━━━━━━━━━━━━━━\u001b[0m\u001b[37m\u001b[0m \u001b[1m22s\u001b[0m 15ms/step - loss: 0.0179 - mse: 0.0146 - val_loss: 0.0385 - val_mse: 0.0352\n",
            "Epoch 84/200\n",
            "\u001b[1m1419/1419\u001b[0m \u001b[32m━━━━━━━━━━━━━━━━━━━━\u001b[0m\u001b[37m\u001b[0m \u001b[1m22s\u001b[0m 15ms/step - loss: 0.0174 - mse: 0.0141 - val_loss: 0.0371 - val_mse: 0.0338\n",
            "Epoch 85/200\n",
            "\u001b[1m1419/1419\u001b[0m \u001b[32m━━━━━━━━━━━━━━━━━━━━\u001b[0m\u001b[37m\u001b[0m \u001b[1m22s\u001b[0m 15ms/step - loss: 0.0174 - mse: 0.0141 - val_loss: 0.0374 - val_mse: 0.0341\n",
            "Epoch 86/200\n",
            "\u001b[1m1419/1419\u001b[0m \u001b[32m━━━━━━━━━━━━━━━━━━━━\u001b[0m\u001b[37m\u001b[0m \u001b[1m22s\u001b[0m 15ms/step - loss: 0.0181 - mse: 0.0147 - val_loss: 0.0414 - val_mse: 0.0381\n",
            "Epoch 87/200\n",
            "\u001b[1m1419/1419\u001b[0m \u001b[32m━━━━━━━━━━━━━━━━━━━━\u001b[0m\u001b[37m\u001b[0m \u001b[1m22s\u001b[0m 15ms/step - loss: 0.0172 - mse: 0.0139 - val_loss: 0.0362 - val_mse: 0.0328\n",
            "Epoch 88/200\n",
            "\u001b[1m1419/1419\u001b[0m \u001b[32m━━━━━━━━━━━━━━━━━━━━\u001b[0m\u001b[37m\u001b[0m \u001b[1m22s\u001b[0m 15ms/step - loss: 0.0177 - mse: 0.0143 - val_loss: 0.0408 - val_mse: 0.0374\n",
            "Epoch 89/200\n",
            "\u001b[1m1419/1419\u001b[0m \u001b[32m━━━━━━━━━━━━━━━━━━━━\u001b[0m\u001b[37m\u001b[0m \u001b[1m22s\u001b[0m 15ms/step - loss: 0.0172 - mse: 0.0138 - val_loss: 0.0320 - val_mse: 0.0286\n",
            "Epoch 90/200\n",
            "\u001b[1m1419/1419\u001b[0m \u001b[32m━━━━━━━━━━━━━━━━━━━━\u001b[0m\u001b[37m\u001b[0m \u001b[1m22s\u001b[0m 15ms/step - loss: 0.0183 - mse: 0.0150 - val_loss: 0.0439 - val_mse: 0.0405\n",
            "Epoch 91/200\n",
            "\u001b[1m1419/1419\u001b[0m \u001b[32m━━━━━━━━━━━━━━━━━━━━\u001b[0m\u001b[37m\u001b[0m \u001b[1m22s\u001b[0m 15ms/step - loss: 0.0175 - mse: 0.0142 - val_loss: 0.0365 - val_mse: 0.0332\n",
            "Epoch 92/200\n",
            "\u001b[1m1419/1419\u001b[0m \u001b[32m━━━━━━━━━━━━━━━━━━━━\u001b[0m\u001b[37m\u001b[0m \u001b[1m22s\u001b[0m 15ms/step - loss: 0.0173 - mse: 0.0140 - val_loss: 0.0390 - val_mse: 0.0356\n",
            "Epoch 93/200\n",
            "\u001b[1m1419/1419\u001b[0m \u001b[32m━━━━━━━━━━━━━━━━━━━━\u001b[0m\u001b[37m\u001b[0m \u001b[1m22s\u001b[0m 15ms/step - loss: 0.0178 - mse: 0.0144 - val_loss: 0.0412 - val_mse: 0.0378\n",
            "Epoch 94/200\n",
            "\u001b[1m1419/1419\u001b[0m \u001b[32m━━━━━━━━━━━━━━━━━━━━\u001b[0m\u001b[37m\u001b[0m \u001b[1m22s\u001b[0m 15ms/step - loss: 0.0180 - mse: 0.0146 - val_loss: 0.0441 - val_mse: 0.0408\n",
            "Epoch 95/200\n",
            "\u001b[1m1419/1419\u001b[0m \u001b[32m━━━━━━━━━━━━━━━━━━━━\u001b[0m\u001b[37m\u001b[0m \u001b[1m22s\u001b[0m 15ms/step - loss: 0.0167 - mse: 0.0134 - val_loss: 0.0403 - val_mse: 0.0369\n",
            "Epoch 96/200\n",
            "\u001b[1m1419/1419\u001b[0m \u001b[32m━━━━━━━━━━━━━━━━━━━━\u001b[0m\u001b[37m\u001b[0m \u001b[1m22s\u001b[0m 15ms/step - loss: 0.0173 - mse: 0.0139 - val_loss: 0.0390 - val_mse: 0.0356\n",
            "Epoch 97/200\n",
            "\u001b[1m1419/1419\u001b[0m \u001b[32m━━━━━━━━━━━━━━━━━━━━\u001b[0m\u001b[37m\u001b[0m \u001b[1m22s\u001b[0m 15ms/step - loss: 0.0169 - mse: 0.0135 - val_loss: 0.0376 - val_mse: 0.0342\n",
            "Epoch 98/200\n",
            "\u001b[1m1419/1419\u001b[0m \u001b[32m━━━━━━━━━━━━━━━━━━━━\u001b[0m\u001b[37m\u001b[0m \u001b[1m22s\u001b[0m 15ms/step - loss: 0.0168 - mse: 0.0134 - val_loss: 0.0376 - val_mse: 0.0342\n",
            "Epoch 99/200\n",
            "\u001b[1m1419/1419\u001b[0m \u001b[32m━━━━━━━━━━━━━━━━━━━━\u001b[0m\u001b[37m\u001b[0m \u001b[1m22s\u001b[0m 15ms/step - loss: 0.0174 - mse: 0.0140 - val_loss: 0.0380 - val_mse: 0.0346\n",
            "Epoch 100/200\n",
            "\u001b[1m1419/1419\u001b[0m \u001b[32m━━━━━━━━━━━━━━━━━━━━\u001b[0m\u001b[37m\u001b[0m \u001b[1m22s\u001b[0m 15ms/step - loss: 0.0175 - mse: 0.0141 - val_loss: 0.0395 - val_mse: 0.0361\n",
            "Epoch 100: early stopping\n",
            "Restoring model weights from the end of the best epoch: 95.\n",
            "\u001b[1m87/87\u001b[0m \u001b[32m━━━━━━━━━━━━━━━━━━━━\u001b[0m\u001b[37m\u001b[0m \u001b[1m1s\u001b[0m 8ms/step\n",
            "{np.int32(0): np.float32(0.22336414), np.int32(1): np.float32(0.20923914), np.int32(2): np.float32(0.35011947), np.int32(3): np.float32(0.18777864), np.int32(4): np.float32(0.11418878), np.int32(5): np.float32(0.14237326), np.int32(6): np.float32(0.15251271), np.int32(7): np.float32(0.07419665), np.int32(8): np.float32(0.060434345), np.int32(9): np.float32(0.063881725), np.int32(10): np.float32(0.13760117), np.int32(11): np.float32(0.19912301), np.int32(12): np.float32(0.59557253), np.int32(13): np.float32(0.05921487), np.int32(14): np.float32(0.06698929), np.int32(15): np.float32(0.16900888), np.int32(16): np.float32(0.1273925), np.int32(17): np.float32(0.18957749), np.int32(18): np.float32(0.13380115), np.int32(19): np.float32(0.6136454), np.int32(20): np.float32(0.19671325), np.int32(21): np.float32(0.11023396), np.int32(22): np.float32(0.16870424), np.int32(23): np.float32(0.11582859), np.int32(24): np.float32(0.18702322), np.int32(25): np.float32(0.042159576), np.int32(26): np.float32(0.23705597), np.int32(27): np.float32(0.10238832), np.int32(28): np.float32(0.1162533), np.int32(29): np.float32(0.1930711), np.int32(30): np.float32(0.057466917), np.int32(31): np.float32(0.11295076), np.int32(32): np.float32(0.102602944), np.int32(33): np.float32(0.053376593), np.int32(34): np.float32(0.19456185), np.int32(35): np.float32(0.062633716), np.int32(36): np.float32(0.1255998), np.int32(38): np.float32(0.074193895), np.int32(39): np.float32(0.23993565), np.int32(40): np.float32(0.17608592), np.int32(41): np.float32(0.16488269), np.int32(42): np.float32(0.26883507), np.int32(43): np.float32(0.23597303), np.int32(44): np.float32(0.25264376), np.int32(45): np.float32(0.17243502), np.int32(46): np.float32(0.08855111), np.int32(47): np.float32(0.09366133), np.int32(48): np.float32(0.21086767), np.int32(49): np.float32(0.075327374), np.int32(50): np.float32(0.14015558), np.int32(51): np.float32(0.31088892), np.int32(52): np.float32(0.08104835), np.int32(53): np.float32(0.11145692), np.int32(54): np.float32(0.22513492), np.int32(55): np.float32(0.41809288), np.int32(56): np.float32(0.13244054), np.int32(57): np.float32(0.18860126), np.int32(58): np.float32(0.101780064), np.int32(59): np.float32(0.045817737), np.int32(60): np.float32(0.1623096), np.int32(61): np.float32(0.1411336), np.int32(62): np.float32(0.11042567), np.int32(63): np.float32(0.16314839), np.int32(64): np.float32(0.12680131), np.int32(65): np.float32(0.10125912), np.int32(66): np.float32(0.09914966), np.int32(67): np.float32(0.14446543), np.int32(69): np.float32(0.039873604), np.int32(70): np.float32(0.080904946), np.int32(71): np.float32(0.073947564), np.int32(72): np.float32(0.14825167), np.int32(73): np.float32(0.2670759), np.int32(74): np.float32(0.041130573), np.int32(75): np.float32(0.2236031), np.int32(76): np.float32(0.16812056), np.int32(77): np.float32(0.16028371), np.int32(78): np.float32(0.15021901), np.int32(79): np.float32(0.1319946), np.int32(80): np.float32(0.15220574), np.int32(81): np.float32(0.35419434), np.int32(82): np.float32(0.058645215), np.int32(83): np.float32(0.3491243), np.int32(84): np.float32(0.16437562), np.int32(85): np.float32(0.44293907), np.int32(86): np.float32(0.08628431), np.int32(87): np.float32(0.1090888), np.int32(88): np.float32(0.117909454), np.int32(89): np.float32(0.15297417), np.int32(90): np.float32(0.2625034), np.int32(91): np.float32(0.26126158), np.int32(92): np.float32(0.24556842), np.int32(93): np.float32(0.109080285), np.int32(94): np.float32(0.08403706), np.int32(95): np.float32(0.115312256), np.int32(96): np.float32(0.055353254), np.int32(97): np.float32(0.0894308), np.int32(98): np.float32(0.13823162), np.int32(99): np.float32(0.22381105), np.int32(100): np.float32(0.07350343)}\n"
          ]
        },
        {
          "output_type": "stream",
          "name": "stderr",
          "text": [
            "/tmp/ipython-input-13-1585781058.py:17: FutureWarning: YF.download() has changed argument auto_adjust default to True\n",
            "  rf = yf.download(rfa, start=di, end=df)\n",
            "\r[*********************100%***********************]  1 of 1 completed"
          ]
        },
        {
          "output_type": "stream",
          "name": "stdout",
          "text": [
            "\n",
            "\n",
            "risk free return: 0.035553646505545315\n",
            "2018-10-18 2022-09-01\n",
            "2023-01-03\n",
            "\r\u001b[1m1/4\u001b[0m \u001b[32m━━━━━\u001b[0m\u001b[37m━━━━━━━━━━━━━━━\u001b[0m \u001b[1m0s\u001b[0m 23ms/step"
          ]
        },
        {
          "output_type": "stream",
          "name": "stderr",
          "text": [
            "\n"
          ]
        },
        {
          "output_type": "stream",
          "name": "stdout",
          "text": [
            "\u001b[1m4/4\u001b[0m \u001b[32m━━━━━━━━━━━━━━━━━━━━\u001b[0m\u001b[37m\u001b[0m \u001b[1m0s\u001b[0m 11ms/step\n",
            "2023-03-09\n",
            "\u001b[1m4/4\u001b[0m \u001b[32m━━━━━━━━━━━━━━━━━━━━\u001b[0m\u001b[37m\u001b[0m \u001b[1m0s\u001b[0m 11ms/step\n",
            "2023-05-12\n",
            "\u001b[1m4/4\u001b[0m \u001b[32m━━━━━━━━━━━━━━━━━━━━\u001b[0m\u001b[37m\u001b[0m \u001b[1m0s\u001b[0m 11ms/step\n",
            "2023-07-19\n",
            "\u001b[1m4/4\u001b[0m \u001b[32m━━━━━━━━━━━━━━━━━━━━\u001b[0m\u001b[37m\u001b[0m \u001b[1m0s\u001b[0m 11ms/step\n",
            "2023-09-21\n",
            "\u001b[1m4/4\u001b[0m \u001b[32m━━━━━━━━━━━━━━━━━━━━\u001b[0m\u001b[37m\u001b[0m \u001b[1m0s\u001b[0m 11ms/step\n",
            "2023-11-24\n",
            "\u001b[1m4/4\u001b[0m \u001b[32m━━━━━━━━━━━━━━━━━━━━\u001b[0m\u001b[37m\u001b[0m \u001b[1m0s\u001b[0m 11ms/step\n",
            "2024-01-31\n",
            "\u001b[1m4/4\u001b[0m \u001b[32m━━━━━━━━━━━━━━━━━━━━\u001b[0m\u001b[37m\u001b[0m \u001b[1m0s\u001b[0m 11ms/step\n",
            "2024-04-05\n",
            "\u001b[1m4/4\u001b[0m \u001b[32m━━━━━━━━━━━━━━━━━━━━\u001b[0m\u001b[37m\u001b[0m \u001b[1m0s\u001b[0m 11ms/step\n",
            "2024-06-10\n",
            "\u001b[1m4/4\u001b[0m \u001b[32m━━━━━━━━━━━━━━━━━━━━\u001b[0m\u001b[37m\u001b[0m \u001b[1m0s\u001b[0m 11ms/step\n",
            "2024-08-14\n",
            "\u001b[1m4/4\u001b[0m \u001b[32m━━━━━━━━━━━━━━━━━━━━\u001b[0m\u001b[37m\u001b[0m \u001b[1m0s\u001b[0m 11ms/step\n",
            "2024-10-17\n",
            "\u001b[1m4/4\u001b[0m \u001b[32m━━━━━━━━━━━━━━━━━━━━\u001b[0m\u001b[37m\u001b[0m \u001b[1m0s\u001b[0m 11ms/step\n",
            "2024-12-20\n",
            "\u001b[1m4/4\u001b[0m \u001b[32m━━━━━━━━━━━━━━━━━━━━\u001b[0m\u001b[37m\u001b[0m \u001b[1m0s\u001b[0m 12ms/step\n",
            "2025-02-28\n",
            "\u001b[1m4/4\u001b[0m \u001b[32m━━━━━━━━━━━━━━━━━━━━\u001b[0m\u001b[37m\u001b[0m \u001b[1m0s\u001b[0m 12ms/step\n"
          ]
        },
        {
          "output_type": "display_data",
          "data": {
            "text/plain": [
              "<IPython.core.display.Javascript object>"
            ],
            "application/javascript": [
              "\n",
              "    async function download(id, filename, size) {\n",
              "      if (!google.colab.kernel.accessAllowed) {\n",
              "        return;\n",
              "      }\n",
              "      const div = document.createElement('div');\n",
              "      const label = document.createElement('label');\n",
              "      label.textContent = `Downloading \"${filename}\": `;\n",
              "      div.appendChild(label);\n",
              "      const progress = document.createElement('progress');\n",
              "      progress.max = size;\n",
              "      div.appendChild(progress);\n",
              "      document.body.appendChild(div);\n",
              "\n",
              "      const buffers = [];\n",
              "      let downloaded = 0;\n",
              "\n",
              "      const channel = await google.colab.kernel.comms.open(id);\n",
              "      // Send a message to notify the kernel that we're ready.\n",
              "      channel.send({})\n",
              "\n",
              "      for await (const message of channel.messages) {\n",
              "        // Send a message to notify the kernel that we're ready.\n",
              "        channel.send({})\n",
              "        if (message.buffers) {\n",
              "          for (const buffer of message.buffers) {\n",
              "            buffers.push(buffer);\n",
              "            downloaded += buffer.byteLength;\n",
              "            progress.value = downloaded;\n",
              "          }\n",
              "        }\n",
              "      }\n",
              "      const blob = new Blob(buffers, {type: 'application/binary'});\n",
              "      const a = document.createElement('a');\n",
              "      a.href = window.URL.createObjectURL(blob);\n",
              "      a.download = filename;\n",
              "      div.appendChild(a);\n",
              "      a.click();\n",
              "      div.remove();\n",
              "    }\n",
              "  "
            ]
          },
          "metadata": {}
        },
        {
          "output_type": "display_data",
          "data": {
            "text/plain": [
              "<IPython.core.display.Javascript object>"
            ],
            "application/javascript": [
              "download(\"download_1e01ff97-9a4f-4027-8cc1-09b866d9f101\", \"2025-07-10_simulation_report_1.csv\", 3071)"
            ]
          },
          "metadata": {}
        }
      ],
      "source": [
        "simulation_report = simulate_trades(dates, sim_start, resp_length,\n",
        "                                    X, tickers, y, ai90,\n",
        "                                    risk_free_asset,\n",
        "                                    retrain_frequency, epochs,\n",
        "                                    batches, reg, patience, SR,\n",
        "                                    long_short, nav)\n",
        "# download the simulation report\n",
        "sim_file = f'{curr_date}_simulation_report_{sim_number}.csv'\n",
        "simulation_report.to_csv(sim_file, index=False)\n",
        "files.download(sim_file)"
      ]
    },
    {
      "cell_type": "markdown",
      "metadata": {
        "id": "qZXo8VohfR9J"
      },
      "source": [
        "### Results"
      ]
    },
    {
      "cell_type": "code",
      "source": [
        "# scatter plot to compare PL% vs Rating for each trade\n",
        "plt.scatter(simulation_report['Rating'], simulation_report['Gain'])\n",
        "plt.xlabel('Rating')\n",
        "plt.ylabel('Gain')\n",
        "plt.title('Gain vs. Rating')\n",
        "plt.grid(True)\n",
        "plt.show()"
      ],
      "metadata": {
        "id": "wys27-DyS5BJ",
        "colab": {
          "base_uri": "https://localhost:8080/",
          "height": 472
        },
        "outputId": "ee66cc97-ba50-492f-ae7e-61cb57b4f620"
      },
      "execution_count": 19,
      "outputs": [
        {
          "output_type": "display_data",
          "data": {
            "text/plain": [
              "<Figure size 640x480 with 1 Axes>"
            ],
            "image/png": "[encoded data removed]"
          },
          "metadata": {}
        }
      ]
    },
    {
      "cell_type": "code",
      "source": [
        "# correlation\n",
        "print(f'Correlation between ratings and gains: {np.round(simulation_report[\"Rating\"].corr(simulation_report[\"Gain\"]), 4)}')"
      ],
      "metadata": {
        "colab": {
          "base_uri": "https://localhost:8080/"
        },
        "id": "EXYKzLhf76MC",
        "outputId": "a8f91d1c-2129-4b38-b135-e2b7df622bcf"
      },
      "execution_count": 20,
      "outputs": [
        {
          "output_type": "stream",
          "name": "stdout",
          "text": [
            "Correlation between ratings and gains: 0.0872\n"
          ]
        }
      ]
    },
    {
      "cell_type": "code",
      "source": [
        "# T-Test\n",
        "positive_ratings = simulation_report[simulation_report['Rating'] > 1]['Gain'].values\n",
        "negative_ratings = simulation_report[simulation_report['Rating'] < -1]['Gain'].values\n",
        "t_stat, p_val = stats.ttest_ind(positive_ratings, negative_ratings, alternative='greater')\n",
        "print(f'Average gain for ratings > 1: {np.round(positive_ratings.mean(), 4)}')\n",
        "print(f'Average gain for ratings < -1: {np.round(negative_ratings.mean(), 4)}')\n",
        "print(f't-statistic: {np.round(t_stat, 4)}')\n",
        "print(f'p-value: {np.round(p_val, 4)}')"
      ],
      "metadata": {
        "colab": {
          "base_uri": "https://localhost:8080/"
        },
        "id": "eEaVMtA1isyC",
        "outputId": "8daf95a2-2360-498e-8a3d-fadc4a23b35b"
      },
      "execution_count": 21,
      "outputs": [
        {
          "output_type": "stream",
          "name": "stdout",
          "text": [
            "Average gain for ratings > 1: 0.0593\n",
            "Average gain for ratings < -1: 0.0211\n",
            "t-statistic: 1.6913\n",
            "p-value: 0.0462\n"
          ]
        }
      ]
    }
  ],
  "metadata": {
    "colab": {
      "provenance": [],
      "collapsed_sections": [
        "WLxKZ8mPBEM2",
        "LvO6cbmhvc8O",
        "tqxS6qGWOJHu",
        "93KHhZu8pNup"
      ],
      "gpuType": "A100",
      "include_colab_link": true
    },
    "kernelspec": {
      "display_name": "Python 3",
      "name": "python3"
    },
    "language_info": {
      "name": "python"
    },
    "accelerator": "GPU"
  },
  "nbformat": 4,
  "nbformat_minor": 0
}
